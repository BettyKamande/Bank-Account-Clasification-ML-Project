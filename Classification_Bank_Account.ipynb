{
  "cells": [
    {
      "cell_type": "markdown",
      "metadata": {
        "id": "view-in-github",
        "colab_type": "text"
      },
      "source": [
        "<a href=\"https://colab.research.google.com/github/BettyKamande/Bank-Account-Clasification-ML-Project/blob/main/Classification_Bank_Account.ipynb\" target=\"_parent\"><img src=\"https://colab.research.google.com/assets/colab-badge.svg\" alt=\"Open In Colab\"/></a>"
      ]
    },
    {
      "cell_type": "code",
      "execution_count": 1,
      "id": "c7825e9b",
      "metadata": {
        "id": "c7825e9b"
      },
      "outputs": [],
      "source": [
        "#import the libraries\n",
        "import numpy as np\n",
        "import pandas as pd\n",
        "import matplotlib.pyplot as plt\n",
        "import seaborn as sns\n",
        "import plotly.express as px"
      ]
    },
    {
      "cell_type": "code",
      "source": [
        "from google.colab import drive\n",
        "drive.mount('/content/drive')"
      ],
      "metadata": {
        "colab": {
          "base_uri": "https://localhost:8080/"
        },
        "id": "-B4ploZfAcih",
        "outputId": "5dda7b86-39d8-40f7-b72d-161a6738d3b2"
      },
      "id": "-B4ploZfAcih",
      "execution_count": 2,
      "outputs": [
        {
          "output_type": "stream",
          "name": "stdout",
          "text": [
            "Drive already mounted at /content/drive; to attempt to forcibly remount, call drive.mount(\"/content/drive\", force_remount=True).\n"
          ]
        }
      ]
    },
    {
      "cell_type": "code",
      "execution_count": 3,
      "id": "fb2c7592",
      "metadata": {
        "id": "fb2c7592"
      },
      "outputs": [],
      "source": [
        "#load the data\n",
        "train_data = pd.read_csv('/content/drive/MyDrive/Colab Notebooks/Classification_Bank_Account Google Colab/Classification_Bank_Account/Train.csv')\n",
        "test_data = pd.read_csv('/content/drive/MyDrive/Colab Notebooks/Classification_Bank_Account Google Colab/Classification_Bank_Account/Test.csv')\n",
        "ss = pd.read_csv('/content/drive/MyDrive/Colab Notebooks/Classification_Bank_Account Google Colab/Classification_Bank_Account/SampleSubmission.csv')"
      ]
    },
    {
      "cell_type": "code",
      "execution_count": 4,
      "id": "3714c767",
      "metadata": {
        "id": "3714c767",
        "colab": {
          "base_uri": "https://localhost:8080/",
          "height": 374
        },
        "outputId": "1454d94c-5956-406c-c8b2-17971fd660f2"
      },
      "outputs": [
        {
          "output_type": "execute_result",
          "data": {
            "text/plain": [
              "  country  year    uniqueid bank_account location_type cellphone_access  \\\n",
              "0   Kenya  2018  uniqueid_1          Yes         Rural              Yes   \n",
              "1   Kenya  2018  uniqueid_2           No         Rural               No   \n",
              "2   Kenya  2018  uniqueid_3          Yes         Urban              Yes   \n",
              "3   Kenya  2018  uniqueid_4           No         Rural              Yes   \n",
              "4   Kenya  2018  uniqueid_5           No         Urban               No   \n",
              "\n",
              "   household_size  age_of_respondent gender_of_respondent  \\\n",
              "0               3                 24               Female   \n",
              "1               5                 70               Female   \n",
              "2               5                 26                 Male   \n",
              "3               5                 34               Female   \n",
              "4               8                 26                 Male   \n",
              "\n",
              "  relationship_with_head           marital_status  \\\n",
              "0                 Spouse  Married/Living together   \n",
              "1      Head of Household                  Widowed   \n",
              "2         Other relative     Single/Never Married   \n",
              "3      Head of Household  Married/Living together   \n",
              "4                  Child     Single/Never Married   \n",
              "\n",
              "                   education_level                   job_type  \n",
              "0              Secondary education              Self employed  \n",
              "1              No formal education       Government Dependent  \n",
              "2  Vocational/Specialised training              Self employed  \n",
              "3                Primary education  Formally employed Private  \n",
              "4                Primary education        Informally employed  "
            ],
            "text/html": [
              "\n",
              "  <div id=\"df-cab8e4ae-c208-4484-8d1e-bec48d9e74bf\">\n",
              "    <div class=\"colab-df-container\">\n",
              "      <div>\n",
              "<style scoped>\n",
              "    .dataframe tbody tr th:only-of-type {\n",
              "        vertical-align: middle;\n",
              "    }\n",
              "\n",
              "    .dataframe tbody tr th {\n",
              "        vertical-align: top;\n",
              "    }\n",
              "\n",
              "    .dataframe thead th {\n",
              "        text-align: right;\n",
              "    }\n",
              "</style>\n",
              "<table border=\"1\" class=\"dataframe\">\n",
              "  <thead>\n",
              "    <tr style=\"text-align: right;\">\n",
              "      <th></th>\n",
              "      <th>country</th>\n",
              "      <th>year</th>\n",
              "      <th>uniqueid</th>\n",
              "      <th>bank_account</th>\n",
              "      <th>location_type</th>\n",
              "      <th>cellphone_access</th>\n",
              "      <th>household_size</th>\n",
              "      <th>age_of_respondent</th>\n",
              "      <th>gender_of_respondent</th>\n",
              "      <th>relationship_with_head</th>\n",
              "      <th>marital_status</th>\n",
              "      <th>education_level</th>\n",
              "      <th>job_type</th>\n",
              "    </tr>\n",
              "  </thead>\n",
              "  <tbody>\n",
              "    <tr>\n",
              "      <th>0</th>\n",
              "      <td>Kenya</td>\n",
              "      <td>2018</td>\n",
              "      <td>uniqueid_1</td>\n",
              "      <td>Yes</td>\n",
              "      <td>Rural</td>\n",
              "      <td>Yes</td>\n",
              "      <td>3</td>\n",
              "      <td>24</td>\n",
              "      <td>Female</td>\n",
              "      <td>Spouse</td>\n",
              "      <td>Married/Living together</td>\n",
              "      <td>Secondary education</td>\n",
              "      <td>Self employed</td>\n",
              "    </tr>\n",
              "    <tr>\n",
              "      <th>1</th>\n",
              "      <td>Kenya</td>\n",
              "      <td>2018</td>\n",
              "      <td>uniqueid_2</td>\n",
              "      <td>No</td>\n",
              "      <td>Rural</td>\n",
              "      <td>No</td>\n",
              "      <td>5</td>\n",
              "      <td>70</td>\n",
              "      <td>Female</td>\n",
              "      <td>Head of Household</td>\n",
              "      <td>Widowed</td>\n",
              "      <td>No formal education</td>\n",
              "      <td>Government Dependent</td>\n",
              "    </tr>\n",
              "    <tr>\n",
              "      <th>2</th>\n",
              "      <td>Kenya</td>\n",
              "      <td>2018</td>\n",
              "      <td>uniqueid_3</td>\n",
              "      <td>Yes</td>\n",
              "      <td>Urban</td>\n",
              "      <td>Yes</td>\n",
              "      <td>5</td>\n",
              "      <td>26</td>\n",
              "      <td>Male</td>\n",
              "      <td>Other relative</td>\n",
              "      <td>Single/Never Married</td>\n",
              "      <td>Vocational/Specialised training</td>\n",
              "      <td>Self employed</td>\n",
              "    </tr>\n",
              "    <tr>\n",
              "      <th>3</th>\n",
              "      <td>Kenya</td>\n",
              "      <td>2018</td>\n",
              "      <td>uniqueid_4</td>\n",
              "      <td>No</td>\n",
              "      <td>Rural</td>\n",
              "      <td>Yes</td>\n",
              "      <td>5</td>\n",
              "      <td>34</td>\n",
              "      <td>Female</td>\n",
              "      <td>Head of Household</td>\n",
              "      <td>Married/Living together</td>\n",
              "      <td>Primary education</td>\n",
              "      <td>Formally employed Private</td>\n",
              "    </tr>\n",
              "    <tr>\n",
              "      <th>4</th>\n",
              "      <td>Kenya</td>\n",
              "      <td>2018</td>\n",
              "      <td>uniqueid_5</td>\n",
              "      <td>No</td>\n",
              "      <td>Urban</td>\n",
              "      <td>No</td>\n",
              "      <td>8</td>\n",
              "      <td>26</td>\n",
              "      <td>Male</td>\n",
              "      <td>Child</td>\n",
              "      <td>Single/Never Married</td>\n",
              "      <td>Primary education</td>\n",
              "      <td>Informally employed</td>\n",
              "    </tr>\n",
              "  </tbody>\n",
              "</table>\n",
              "</div>\n",
              "      <button class=\"colab-df-convert\" onclick=\"convertToInteractive('df-cab8e4ae-c208-4484-8d1e-bec48d9e74bf')\"\n",
              "              title=\"Convert this dataframe to an interactive table.\"\n",
              "              style=\"display:none;\">\n",
              "        \n",
              "  <svg xmlns=\"http://www.w3.org/2000/svg\" height=\"24px\"viewBox=\"0 0 24 24\"\n",
              "       width=\"24px\">\n",
              "    <path d=\"M0 0h24v24H0V0z\" fill=\"none\"/>\n",
              "    <path d=\"M18.56 5.44l.94 2.06.94-2.06 2.06-.94-2.06-.94-.94-2.06-.94 2.06-2.06.94zm-11 1L8.5 8.5l.94-2.06 2.06-.94-2.06-.94L8.5 2.5l-.94 2.06-2.06.94zm10 10l.94 2.06.94-2.06 2.06-.94-2.06-.94-.94-2.06-.94 2.06-2.06.94z\"/><path d=\"M17.41 7.96l-1.37-1.37c-.4-.4-.92-.59-1.43-.59-.52 0-1.04.2-1.43.59L10.3 9.45l-7.72 7.72c-.78.78-.78 2.05 0 2.83L4 21.41c.39.39.9.59 1.41.59.51 0 1.02-.2 1.41-.59l7.78-7.78 2.81-2.81c.8-.78.8-2.07 0-2.86zM5.41 20L4 18.59l7.72-7.72 1.47 1.35L5.41 20z\"/>\n",
              "  </svg>\n",
              "      </button>\n",
              "      \n",
              "  <style>\n",
              "    .colab-df-container {\n",
              "      display:flex;\n",
              "      flex-wrap:wrap;\n",
              "      gap: 12px;\n",
              "    }\n",
              "\n",
              "    .colab-df-convert {\n",
              "      background-color: #E8F0FE;\n",
              "      border: none;\n",
              "      border-radius: 50%;\n",
              "      cursor: pointer;\n",
              "      display: none;\n",
              "      fill: #1967D2;\n",
              "      height: 32px;\n",
              "      padding: 0 0 0 0;\n",
              "      width: 32px;\n",
              "    }\n",
              "\n",
              "    .colab-df-convert:hover {\n",
              "      background-color: #E2EBFA;\n",
              "      box-shadow: 0px 1px 2px rgba(60, 64, 67, 0.3), 0px 1px 3px 1px rgba(60, 64, 67, 0.15);\n",
              "      fill: #174EA6;\n",
              "    }\n",
              "\n",
              "    [theme=dark] .colab-df-convert {\n",
              "      background-color: #3B4455;\n",
              "      fill: #D2E3FC;\n",
              "    }\n",
              "\n",
              "    [theme=dark] .colab-df-convert:hover {\n",
              "      background-color: #434B5C;\n",
              "      box-shadow: 0px 1px 3px 1px rgba(0, 0, 0, 0.15);\n",
              "      filter: drop-shadow(0px 1px 2px rgba(0, 0, 0, 0.3));\n",
              "      fill: #FFFFFF;\n",
              "    }\n",
              "  </style>\n",
              "\n",
              "      <script>\n",
              "        const buttonEl =\n",
              "          document.querySelector('#df-cab8e4ae-c208-4484-8d1e-bec48d9e74bf button.colab-df-convert');\n",
              "        buttonEl.style.display =\n",
              "          google.colab.kernel.accessAllowed ? 'block' : 'none';\n",
              "\n",
              "        async function convertToInteractive(key) {\n",
              "          const element = document.querySelector('#df-cab8e4ae-c208-4484-8d1e-bec48d9e74bf');\n",
              "          const dataTable =\n",
              "            await google.colab.kernel.invokeFunction('convertToInteractive',\n",
              "                                                     [key], {});\n",
              "          if (!dataTable) return;\n",
              "\n",
              "          const docLinkHtml = 'Like what you see? Visit the ' +\n",
              "            '<a target=\"_blank\" href=https://colab.research.google.com/notebooks/data_table.ipynb>data table notebook</a>'\n",
              "            + ' to learn more about interactive tables.';\n",
              "          element.innerHTML = '';\n",
              "          dataTable['output_type'] = 'display_data';\n",
              "          await google.colab.output.renderOutput(dataTable, element);\n",
              "          const docLink = document.createElement('div');\n",
              "          docLink.innerHTML = docLinkHtml;\n",
              "          element.appendChild(docLink);\n",
              "        }\n",
              "      </script>\n",
              "    </div>\n",
              "  </div>\n",
              "  "
            ]
          },
          "metadata": {},
          "execution_count": 4
        }
      ],
      "source": [
        "#inspecting the data\n",
        "train_data.head(5)"
      ]
    },
    {
      "cell_type": "code",
      "execution_count": 5,
      "id": "88a89404",
      "metadata": {
        "id": "88a89404",
        "colab": {
          "base_uri": "https://localhost:8080/",
          "height": 294
        },
        "outputId": "004a9e83-402a-4e35-d46e-151fa4b18ebc"
      },
      "outputs": [
        {
          "output_type": "execute_result",
          "data": {
            "text/plain": [
              "  country  year       uniqueid location_type cellphone_access  household_size  \\\n",
              "0   Kenya  2018  uniqueid_6056         Urban              Yes               3   \n",
              "1   Kenya  2018  uniqueid_6060         Urban              Yes               7   \n",
              "2   Kenya  2018  uniqueid_6065         Rural               No               3   \n",
              "\n",
              "   age_of_respondent gender_of_respondent relationship_with_head  \\\n",
              "0                 30                 Male      Head of Household   \n",
              "1                 51                 Male      Head of Household   \n",
              "2                 77               Female                 Parent   \n",
              "\n",
              "            marital_status                  education_level  \\\n",
              "0  Married/Living together              Secondary education   \n",
              "1  Married/Living together  Vocational/Specialised training   \n",
              "2  Married/Living together              No formal education   \n",
              "\n",
              "                       job_type  \n",
              "0  Formally employed Government  \n",
              "1     Formally employed Private  \n",
              "2          Remittance Dependent  "
            ],
            "text/html": [
              "\n",
              "  <div id=\"df-6fc2a2e6-0d0b-4cdc-af51-42eeddbf1cbc\">\n",
              "    <div class=\"colab-df-container\">\n",
              "      <div>\n",
              "<style scoped>\n",
              "    .dataframe tbody tr th:only-of-type {\n",
              "        vertical-align: middle;\n",
              "    }\n",
              "\n",
              "    .dataframe tbody tr th {\n",
              "        vertical-align: top;\n",
              "    }\n",
              "\n",
              "    .dataframe thead th {\n",
              "        text-align: right;\n",
              "    }\n",
              "</style>\n",
              "<table border=\"1\" class=\"dataframe\">\n",
              "  <thead>\n",
              "    <tr style=\"text-align: right;\">\n",
              "      <th></th>\n",
              "      <th>country</th>\n",
              "      <th>year</th>\n",
              "      <th>uniqueid</th>\n",
              "      <th>location_type</th>\n",
              "      <th>cellphone_access</th>\n",
              "      <th>household_size</th>\n",
              "      <th>age_of_respondent</th>\n",
              "      <th>gender_of_respondent</th>\n",
              "      <th>relationship_with_head</th>\n",
              "      <th>marital_status</th>\n",
              "      <th>education_level</th>\n",
              "      <th>job_type</th>\n",
              "    </tr>\n",
              "  </thead>\n",
              "  <tbody>\n",
              "    <tr>\n",
              "      <th>0</th>\n",
              "      <td>Kenya</td>\n",
              "      <td>2018</td>\n",
              "      <td>uniqueid_6056</td>\n",
              "      <td>Urban</td>\n",
              "      <td>Yes</td>\n",
              "      <td>3</td>\n",
              "      <td>30</td>\n",
              "      <td>Male</td>\n",
              "      <td>Head of Household</td>\n",
              "      <td>Married/Living together</td>\n",
              "      <td>Secondary education</td>\n",
              "      <td>Formally employed Government</td>\n",
              "    </tr>\n",
              "    <tr>\n",
              "      <th>1</th>\n",
              "      <td>Kenya</td>\n",
              "      <td>2018</td>\n",
              "      <td>uniqueid_6060</td>\n",
              "      <td>Urban</td>\n",
              "      <td>Yes</td>\n",
              "      <td>7</td>\n",
              "      <td>51</td>\n",
              "      <td>Male</td>\n",
              "      <td>Head of Household</td>\n",
              "      <td>Married/Living together</td>\n",
              "      <td>Vocational/Specialised training</td>\n",
              "      <td>Formally employed Private</td>\n",
              "    </tr>\n",
              "    <tr>\n",
              "      <th>2</th>\n",
              "      <td>Kenya</td>\n",
              "      <td>2018</td>\n",
              "      <td>uniqueid_6065</td>\n",
              "      <td>Rural</td>\n",
              "      <td>No</td>\n",
              "      <td>3</td>\n",
              "      <td>77</td>\n",
              "      <td>Female</td>\n",
              "      <td>Parent</td>\n",
              "      <td>Married/Living together</td>\n",
              "      <td>No formal education</td>\n",
              "      <td>Remittance Dependent</td>\n",
              "    </tr>\n",
              "  </tbody>\n",
              "</table>\n",
              "</div>\n",
              "      <button class=\"colab-df-convert\" onclick=\"convertToInteractive('df-6fc2a2e6-0d0b-4cdc-af51-42eeddbf1cbc')\"\n",
              "              title=\"Convert this dataframe to an interactive table.\"\n",
              "              style=\"display:none;\">\n",
              "        \n",
              "  <svg xmlns=\"http://www.w3.org/2000/svg\" height=\"24px\"viewBox=\"0 0 24 24\"\n",
              "       width=\"24px\">\n",
              "    <path d=\"M0 0h24v24H0V0z\" fill=\"none\"/>\n",
              "    <path d=\"M18.56 5.44l.94 2.06.94-2.06 2.06-.94-2.06-.94-.94-2.06-.94 2.06-2.06.94zm-11 1L8.5 8.5l.94-2.06 2.06-.94-2.06-.94L8.5 2.5l-.94 2.06-2.06.94zm10 10l.94 2.06.94-2.06 2.06-.94-2.06-.94-.94-2.06-.94 2.06-2.06.94z\"/><path d=\"M17.41 7.96l-1.37-1.37c-.4-.4-.92-.59-1.43-.59-.52 0-1.04.2-1.43.59L10.3 9.45l-7.72 7.72c-.78.78-.78 2.05 0 2.83L4 21.41c.39.39.9.59 1.41.59.51 0 1.02-.2 1.41-.59l7.78-7.78 2.81-2.81c.8-.78.8-2.07 0-2.86zM5.41 20L4 18.59l7.72-7.72 1.47 1.35L5.41 20z\"/>\n",
              "  </svg>\n",
              "      </button>\n",
              "      \n",
              "  <style>\n",
              "    .colab-df-container {\n",
              "      display:flex;\n",
              "      flex-wrap:wrap;\n",
              "      gap: 12px;\n",
              "    }\n",
              "\n",
              "    .colab-df-convert {\n",
              "      background-color: #E8F0FE;\n",
              "      border: none;\n",
              "      border-radius: 50%;\n",
              "      cursor: pointer;\n",
              "      display: none;\n",
              "      fill: #1967D2;\n",
              "      height: 32px;\n",
              "      padding: 0 0 0 0;\n",
              "      width: 32px;\n",
              "    }\n",
              "\n",
              "    .colab-df-convert:hover {\n",
              "      background-color: #E2EBFA;\n",
              "      box-shadow: 0px 1px 2px rgba(60, 64, 67, 0.3), 0px 1px 3px 1px rgba(60, 64, 67, 0.15);\n",
              "      fill: #174EA6;\n",
              "    }\n",
              "\n",
              "    [theme=dark] .colab-df-convert {\n",
              "      background-color: #3B4455;\n",
              "      fill: #D2E3FC;\n",
              "    }\n",
              "\n",
              "    [theme=dark] .colab-df-convert:hover {\n",
              "      background-color: #434B5C;\n",
              "      box-shadow: 0px 1px 3px 1px rgba(0, 0, 0, 0.15);\n",
              "      filter: drop-shadow(0px 1px 2px rgba(0, 0, 0, 0.3));\n",
              "      fill: #FFFFFF;\n",
              "    }\n",
              "  </style>\n",
              "\n",
              "      <script>\n",
              "        const buttonEl =\n",
              "          document.querySelector('#df-6fc2a2e6-0d0b-4cdc-af51-42eeddbf1cbc button.colab-df-convert');\n",
              "        buttonEl.style.display =\n",
              "          google.colab.kernel.accessAllowed ? 'block' : 'none';\n",
              "\n",
              "        async function convertToInteractive(key) {\n",
              "          const element = document.querySelector('#df-6fc2a2e6-0d0b-4cdc-af51-42eeddbf1cbc');\n",
              "          const dataTable =\n",
              "            await google.colab.kernel.invokeFunction('convertToInteractive',\n",
              "                                                     [key], {});\n",
              "          if (!dataTable) return;\n",
              "\n",
              "          const docLinkHtml = 'Like what you see? Visit the ' +\n",
              "            '<a target=\"_blank\" href=https://colab.research.google.com/notebooks/data_table.ipynb>data table notebook</a>'\n",
              "            + ' to learn more about interactive tables.';\n",
              "          element.innerHTML = '';\n",
              "          dataTable['output_type'] = 'display_data';\n",
              "          await google.colab.output.renderOutput(dataTable, element);\n",
              "          const docLink = document.createElement('div');\n",
              "          docLink.innerHTML = docLinkHtml;\n",
              "          element.appendChild(docLink);\n",
              "        }\n",
              "      </script>\n",
              "    </div>\n",
              "  </div>\n",
              "  "
            ]
          },
          "metadata": {},
          "execution_count": 5
        }
      ],
      "source": [
        "test_data.head(3)"
      ]
    },
    {
      "cell_type": "code",
      "execution_count": 6,
      "id": "17921ee5",
      "metadata": {
        "id": "17921ee5",
        "colab": {
          "base_uri": "https://localhost:8080/"
        },
        "outputId": "3300430c-2b36-4f9d-de8c-1a0e0e903eef"
      },
      "outputs": [
        {
          "output_type": "stream",
          "name": "stdout",
          "text": [
            "<class 'pandas.core.frame.DataFrame'>\n",
            "RangeIndex: 23524 entries, 0 to 23523\n",
            "Data columns (total 13 columns):\n",
            " #   Column                  Non-Null Count  Dtype \n",
            "---  ------                  --------------  ----- \n",
            " 0   country                 23524 non-null  object\n",
            " 1   year                    23524 non-null  int64 \n",
            " 2   uniqueid                23524 non-null  object\n",
            " 3   bank_account            23524 non-null  object\n",
            " 4   location_type           23524 non-null  object\n",
            " 5   cellphone_access        23524 non-null  object\n",
            " 6   household_size          23524 non-null  int64 \n",
            " 7   age_of_respondent       23524 non-null  int64 \n",
            " 8   gender_of_respondent    23524 non-null  object\n",
            " 9   relationship_with_head  23524 non-null  object\n",
            " 10  marital_status          23524 non-null  object\n",
            " 11  education_level         23524 non-null  object\n",
            " 12  job_type                23524 non-null  object\n",
            "dtypes: int64(3), object(10)\n",
            "memory usage: 2.3+ MB\n"
          ]
        }
      ],
      "source": [
        "train_data.info()"
      ]
    },
    {
      "cell_type": "code",
      "execution_count": 7,
      "id": "48e78168",
      "metadata": {
        "id": "48e78168",
        "colab": {
          "base_uri": "https://localhost:8080/"
        },
        "outputId": "fc14a397-1973-45a3-9a1c-f62e08a3b88f"
      },
      "outputs": [
        {
          "output_type": "execute_result",
          "data": {
            "text/plain": [
              "country                   object\n",
              "year                       int64\n",
              "uniqueid                  object\n",
              "bank_account              object\n",
              "location_type             object\n",
              "cellphone_access          object\n",
              "household_size             int64\n",
              "age_of_respondent          int64\n",
              "gender_of_respondent      object\n",
              "relationship_with_head    object\n",
              "marital_status            object\n",
              "education_level           object\n",
              "job_type                  object\n",
              "dtype: object"
            ]
          },
          "metadata": {},
          "execution_count": 7
        }
      ],
      "source": [
        "train_data.dtypes"
      ]
    },
    {
      "cell_type": "code",
      "execution_count": 8,
      "id": "4ef6e6d4",
      "metadata": {
        "id": "4ef6e6d4",
        "colab": {
          "base_uri": "https://localhost:8080/",
          "height": 300
        },
        "outputId": "bc263d40-7bb3-4f82-baf2-d7e8533c54c7"
      },
      "outputs": [
        {
          "output_type": "execute_result",
          "data": {
            "text/plain": [
              "               year  household_size  age_of_respondent\n",
              "count  23524.000000    23524.000000       23524.000000\n",
              "mean    2016.975939        3.797483          38.805220\n",
              "std        0.847371        2.227613          16.520569\n",
              "min     2016.000000        1.000000          16.000000\n",
              "25%     2016.000000        2.000000          26.000000\n",
              "50%     2017.000000        3.000000          35.000000\n",
              "75%     2018.000000        5.000000          49.000000\n",
              "max     2018.000000       21.000000         100.000000"
            ],
            "text/html": [
              "\n",
              "  <div id=\"df-25a71f9b-8bd5-4c9f-b783-d5dda2863282\">\n",
              "    <div class=\"colab-df-container\">\n",
              "      <div>\n",
              "<style scoped>\n",
              "    .dataframe tbody tr th:only-of-type {\n",
              "        vertical-align: middle;\n",
              "    }\n",
              "\n",
              "    .dataframe tbody tr th {\n",
              "        vertical-align: top;\n",
              "    }\n",
              "\n",
              "    .dataframe thead th {\n",
              "        text-align: right;\n",
              "    }\n",
              "</style>\n",
              "<table border=\"1\" class=\"dataframe\">\n",
              "  <thead>\n",
              "    <tr style=\"text-align: right;\">\n",
              "      <th></th>\n",
              "      <th>year</th>\n",
              "      <th>household_size</th>\n",
              "      <th>age_of_respondent</th>\n",
              "    </tr>\n",
              "  </thead>\n",
              "  <tbody>\n",
              "    <tr>\n",
              "      <th>count</th>\n",
              "      <td>23524.000000</td>\n",
              "      <td>23524.000000</td>\n",
              "      <td>23524.000000</td>\n",
              "    </tr>\n",
              "    <tr>\n",
              "      <th>mean</th>\n",
              "      <td>2016.975939</td>\n",
              "      <td>3.797483</td>\n",
              "      <td>38.805220</td>\n",
              "    </tr>\n",
              "    <tr>\n",
              "      <th>std</th>\n",
              "      <td>0.847371</td>\n",
              "      <td>2.227613</td>\n",
              "      <td>16.520569</td>\n",
              "    </tr>\n",
              "    <tr>\n",
              "      <th>min</th>\n",
              "      <td>2016.000000</td>\n",
              "      <td>1.000000</td>\n",
              "      <td>16.000000</td>\n",
              "    </tr>\n",
              "    <tr>\n",
              "      <th>25%</th>\n",
              "      <td>2016.000000</td>\n",
              "      <td>2.000000</td>\n",
              "      <td>26.000000</td>\n",
              "    </tr>\n",
              "    <tr>\n",
              "      <th>50%</th>\n",
              "      <td>2017.000000</td>\n",
              "      <td>3.000000</td>\n",
              "      <td>35.000000</td>\n",
              "    </tr>\n",
              "    <tr>\n",
              "      <th>75%</th>\n",
              "      <td>2018.000000</td>\n",
              "      <td>5.000000</td>\n",
              "      <td>49.000000</td>\n",
              "    </tr>\n",
              "    <tr>\n",
              "      <th>max</th>\n",
              "      <td>2018.000000</td>\n",
              "      <td>21.000000</td>\n",
              "      <td>100.000000</td>\n",
              "    </tr>\n",
              "  </tbody>\n",
              "</table>\n",
              "</div>\n",
              "      <button class=\"colab-df-convert\" onclick=\"convertToInteractive('df-25a71f9b-8bd5-4c9f-b783-d5dda2863282')\"\n",
              "              title=\"Convert this dataframe to an interactive table.\"\n",
              "              style=\"display:none;\">\n",
              "        \n",
              "  <svg xmlns=\"http://www.w3.org/2000/svg\" height=\"24px\"viewBox=\"0 0 24 24\"\n",
              "       width=\"24px\">\n",
              "    <path d=\"M0 0h24v24H0V0z\" fill=\"none\"/>\n",
              "    <path d=\"M18.56 5.44l.94 2.06.94-2.06 2.06-.94-2.06-.94-.94-2.06-.94 2.06-2.06.94zm-11 1L8.5 8.5l.94-2.06 2.06-.94-2.06-.94L8.5 2.5l-.94 2.06-2.06.94zm10 10l.94 2.06.94-2.06 2.06-.94-2.06-.94-.94-2.06-.94 2.06-2.06.94z\"/><path d=\"M17.41 7.96l-1.37-1.37c-.4-.4-.92-.59-1.43-.59-.52 0-1.04.2-1.43.59L10.3 9.45l-7.72 7.72c-.78.78-.78 2.05 0 2.83L4 21.41c.39.39.9.59 1.41.59.51 0 1.02-.2 1.41-.59l7.78-7.78 2.81-2.81c.8-.78.8-2.07 0-2.86zM5.41 20L4 18.59l7.72-7.72 1.47 1.35L5.41 20z\"/>\n",
              "  </svg>\n",
              "      </button>\n",
              "      \n",
              "  <style>\n",
              "    .colab-df-container {\n",
              "      display:flex;\n",
              "      flex-wrap:wrap;\n",
              "      gap: 12px;\n",
              "    }\n",
              "\n",
              "    .colab-df-convert {\n",
              "      background-color: #E8F0FE;\n",
              "      border: none;\n",
              "      border-radius: 50%;\n",
              "      cursor: pointer;\n",
              "      display: none;\n",
              "      fill: #1967D2;\n",
              "      height: 32px;\n",
              "      padding: 0 0 0 0;\n",
              "      width: 32px;\n",
              "    }\n",
              "\n",
              "    .colab-df-convert:hover {\n",
              "      background-color: #E2EBFA;\n",
              "      box-shadow: 0px 1px 2px rgba(60, 64, 67, 0.3), 0px 1px 3px 1px rgba(60, 64, 67, 0.15);\n",
              "      fill: #174EA6;\n",
              "    }\n",
              "\n",
              "    [theme=dark] .colab-df-convert {\n",
              "      background-color: #3B4455;\n",
              "      fill: #D2E3FC;\n",
              "    }\n",
              "\n",
              "    [theme=dark] .colab-df-convert:hover {\n",
              "      background-color: #434B5C;\n",
              "      box-shadow: 0px 1px 3px 1px rgba(0, 0, 0, 0.15);\n",
              "      filter: drop-shadow(0px 1px 2px rgba(0, 0, 0, 0.3));\n",
              "      fill: #FFFFFF;\n",
              "    }\n",
              "  </style>\n",
              "\n",
              "      <script>\n",
              "        const buttonEl =\n",
              "          document.querySelector('#df-25a71f9b-8bd5-4c9f-b783-d5dda2863282 button.colab-df-convert');\n",
              "        buttonEl.style.display =\n",
              "          google.colab.kernel.accessAllowed ? 'block' : 'none';\n",
              "\n",
              "        async function convertToInteractive(key) {\n",
              "          const element = document.querySelector('#df-25a71f9b-8bd5-4c9f-b783-d5dda2863282');\n",
              "          const dataTable =\n",
              "            await google.colab.kernel.invokeFunction('convertToInteractive',\n",
              "                                                     [key], {});\n",
              "          if (!dataTable) return;\n",
              "\n",
              "          const docLinkHtml = 'Like what you see? Visit the ' +\n",
              "            '<a target=\"_blank\" href=https://colab.research.google.com/notebooks/data_table.ipynb>data table notebook</a>'\n",
              "            + ' to learn more about interactive tables.';\n",
              "          element.innerHTML = '';\n",
              "          dataTable['output_type'] = 'display_data';\n",
              "          await google.colab.output.renderOutput(dataTable, element);\n",
              "          const docLink = document.createElement('div');\n",
              "          docLink.innerHTML = docLinkHtml;\n",
              "          element.appendChild(docLink);\n",
              "        }\n",
              "      </script>\n",
              "    </div>\n",
              "  </div>\n",
              "  "
            ]
          },
          "metadata": {},
          "execution_count": 8
        }
      ],
      "source": [
        "train_data.describe()"
      ]
    },
    {
      "cell_type": "code",
      "execution_count": 9,
      "id": "3364db87",
      "metadata": {
        "id": "3364db87",
        "colab": {
          "base_uri": "https://localhost:8080/"
        },
        "outputId": "fcbf6b2a-cec6-4c08-b40e-4c2ecb733646"
      },
      "outputs": [
        {
          "output_type": "execute_result",
          "data": {
            "text/plain": [
              "(23524, 13)"
            ]
          },
          "metadata": {},
          "execution_count": 9
        }
      ],
      "source": [
        "train_data.shape"
      ]
    },
    {
      "cell_type": "code",
      "execution_count": 10,
      "id": "761b74fe",
      "metadata": {
        "id": "761b74fe",
        "colab": {
          "base_uri": "https://localhost:8080/"
        },
        "outputId": "033e8667-baec-436f-de03-693270385593"
      },
      "outputs": [
        {
          "output_type": "execute_result",
          "data": {
            "text/plain": [
              "(10086, 12)"
            ]
          },
          "metadata": {},
          "execution_count": 10
        }
      ],
      "source": [
        "test_data.shape"
      ]
    },
    {
      "cell_type": "code",
      "execution_count": 11,
      "id": "12cae1a8",
      "metadata": {
        "id": "12cae1a8",
        "colab": {
          "base_uri": "https://localhost:8080/"
        },
        "outputId": "e92e3fc3-5b57-43d4-ff09-bb9ae3047cc6"
      },
      "outputs": [
        {
          "output_type": "execute_result",
          "data": {
            "text/plain": [
              "country                   0\n",
              "year                      0\n",
              "uniqueid                  0\n",
              "bank_account              0\n",
              "location_type             0\n",
              "cellphone_access          0\n",
              "household_size            0\n",
              "age_of_respondent         0\n",
              "gender_of_respondent      0\n",
              "relationship_with_head    0\n",
              "marital_status            0\n",
              "education_level           0\n",
              "job_type                  0\n",
              "dtype: int64"
            ]
          },
          "metadata": {},
          "execution_count": 11
        }
      ],
      "source": [
        "#Exploratory Data Analysis\n",
        "#Checking for missing values\n",
        "train_data.isnull().sum()"
      ]
    },
    {
      "cell_type": "code",
      "execution_count": 12,
      "id": "31b392ce",
      "metadata": {
        "id": "31b392ce",
        "colab": {
          "base_uri": "https://localhost:8080/"
        },
        "outputId": "93e073e9-7311-413c-eaf6-6131e68f4560"
      },
      "outputs": [
        {
          "output_type": "execute_result",
          "data": {
            "text/plain": [
              "country                   0\n",
              "year                      0\n",
              "uniqueid                  0\n",
              "location_type             0\n",
              "cellphone_access          0\n",
              "household_size            0\n",
              "age_of_respondent         0\n",
              "gender_of_respondent      0\n",
              "relationship_with_head    0\n",
              "marital_status            0\n",
              "education_level           0\n",
              "job_type                  0\n",
              "dtype: int64"
            ]
          },
          "metadata": {},
          "execution_count": 12
        }
      ],
      "source": [
        "test_data.isnull().sum()"
      ]
    },
    {
      "cell_type": "code",
      "execution_count": 13,
      "id": "530f7876",
      "metadata": {
        "id": "530f7876",
        "colab": {
          "base_uri": "https://localhost:8080/"
        },
        "outputId": "7075834e-d9e1-4eef-c733-d598655215a6"
      },
      "outputs": [
        {
          "output_type": "execute_result",
          "data": {
            "text/plain": [
              "Rwanda      8735\n",
              "Tanzania    6620\n",
              "Kenya       6068\n",
              "Uganda      2101\n",
              "Name: country, dtype: int64"
            ]
          },
          "metadata": {},
          "execution_count": 13
        }
      ],
      "source": [
        "train_data['country'].value_counts()"
      ]
    },
    {
      "cell_type": "code",
      "execution_count": 14,
      "id": "65f89c9b",
      "metadata": {
        "id": "65f89c9b",
        "colab": {
          "base_uri": "https://localhost:8080/"
        },
        "outputId": "1fe4cb4c-abec-42c7-e90e-dc9728f2246e"
      },
      "outputs": [
        {
          "output_type": "execute_result",
          "data": {
            "text/plain": [
              "2016    8735\n",
              "2018    8169\n",
              "2017    6620\n",
              "Name: year, dtype: int64"
            ]
          },
          "metadata": {},
          "execution_count": 14
        }
      ],
      "source": [
        "train_data['year'].value_counts()"
      ]
    },
    {
      "cell_type": "code",
      "execution_count": 15,
      "id": "cc7016de",
      "metadata": {
        "id": "cc7016de",
        "colab": {
          "base_uri": "https://localhost:8080/"
        },
        "outputId": "afbd3e1b-7317-475c-a4f7-799ccd4f5b9b"
      },
      "outputs": [
        {
          "output_type": "execute_result",
          "data": {
            "text/plain": [
              "Rural    14343\n",
              "Urban     9181\n",
              "Name: location_type, dtype: int64"
            ]
          },
          "metadata": {},
          "execution_count": 15
        }
      ],
      "source": [
        "train_data['location_type'].value_counts()"
      ]
    },
    {
      "cell_type": "code",
      "execution_count": 16,
      "id": "72d82086",
      "metadata": {
        "id": "72d82086",
        "colab": {
          "base_uri": "https://localhost:8080/"
        },
        "outputId": "7c9910f7-832b-426a-dd30-cc1bf364e264"
      },
      "outputs": [
        {
          "output_type": "execute_result",
          "data": {
            "text/plain": [
              "Yes    17454\n",
              "No      6070\n",
              "Name: cellphone_access, dtype: int64"
            ]
          },
          "metadata": {},
          "execution_count": 16
        }
      ],
      "source": [
        "train_data['cellphone_access'].value_counts()"
      ]
    },
    {
      "cell_type": "code",
      "execution_count": 17,
      "id": "7fab876d",
      "metadata": {
        "id": "7fab876d",
        "colab": {
          "base_uri": "https://localhost:8080/"
        },
        "outputId": "cfa50b25-0e26-40d4-ff5a-a80cee2c88d2"
      },
      "outputs": [
        {
          "output_type": "execute_result",
          "data": {
            "text/plain": [
              "2     5229\n",
              "3     3920\n",
              "4     3474\n",
              "1     3057\n",
              "5     2853\n",
              "6     2096\n",
              "7     1400\n",
              "8      751\n",
              "9      363\n",
              "10     190\n",
              "11      69\n",
              "12      68\n",
              "13      25\n",
              "15      11\n",
              "14      10\n",
              "16       4\n",
              "21       1\n",
              "18       1\n",
              "17       1\n",
              "20       1\n",
              "Name: household_size, dtype: int64"
            ]
          },
          "metadata": {},
          "execution_count": 17
        }
      ],
      "source": [
        "train_data['household_size'].value_counts()"
      ]
    },
    {
      "cell_type": "code",
      "execution_count": 18,
      "id": "5c5d5d99",
      "metadata": {
        "id": "5c5d5d99",
        "colab": {
          "base_uri": "https://localhost:8080/"
        },
        "outputId": "729c87eb-7b1b-4e60-fd48-6b8bc820902f"
      },
      "outputs": [
        {
          "output_type": "execute_result",
          "data": {
            "text/plain": [
              "30     1056\n",
              "35      836\n",
              "25      792\n",
              "28      748\n",
              "32      715\n",
              "       ... \n",
              "100       5\n",
              "93        4\n",
              "96        3\n",
              "99        2\n",
              "97        1\n",
              "Name: age_of_respondent, Length: 85, dtype: int64"
            ]
          },
          "metadata": {},
          "execution_count": 18
        }
      ],
      "source": [
        "train_data['age_of_respondent'].value_counts()"
      ]
    },
    {
      "cell_type": "code",
      "execution_count": 19,
      "id": "50e05da0",
      "metadata": {
        "id": "50e05da0",
        "colab": {
          "base_uri": "https://localhost:8080/"
        },
        "outputId": "42b78993-f1e7-4492-d8c2-43316e0b602a"
      },
      "outputs": [
        {
          "output_type": "execute_result",
          "data": {
            "text/plain": [
              "Female    13877\n",
              "Male       9647\n",
              "Name: gender_of_respondent, dtype: int64"
            ]
          },
          "metadata": {},
          "execution_count": 19
        }
      ],
      "source": [
        "train_data['gender_of_respondent'].value_counts()"
      ]
    },
    {
      "cell_type": "code",
      "execution_count": 20,
      "id": "34a81137",
      "metadata": {
        "id": "34a81137",
        "colab": {
          "base_uri": "https://localhost:8080/"
        },
        "outputId": "32d21cef-d76b-45ba-e944-c0acfd11894e"
      },
      "outputs": [
        {
          "output_type": "execute_result",
          "data": {
            "text/plain": [
              "Head of Household      12831\n",
              "Spouse                  6520\n",
              "Child                   2229\n",
              "Parent                  1086\n",
              "Other relative           668\n",
              "Other non-relatives      190\n",
              "Name: relationship_with_head, dtype: int64"
            ]
          },
          "metadata": {},
          "execution_count": 20
        }
      ],
      "source": [
        "train_data['relationship_with_head'].value_counts()"
      ]
    },
    {
      "cell_type": "code",
      "execution_count": 21,
      "id": "b6ee496d",
      "metadata": {
        "id": "b6ee496d",
        "colab": {
          "base_uri": "https://localhost:8080/"
        },
        "outputId": "7692513d-fc08-4337-d0c2-54500daaf452"
      },
      "outputs": [
        {
          "output_type": "execute_result",
          "data": {
            "text/plain": [
              "Married/Living together    10749\n",
              "Single/Never Married        7983\n",
              "Widowed                     2708\n",
              "Divorced/Seperated          2076\n",
              "Dont know                      8\n",
              "Name: marital_status, dtype: int64"
            ]
          },
          "metadata": {},
          "execution_count": 21
        }
      ],
      "source": [
        "train_data['marital_status'].value_counts()"
      ]
    },
    {
      "cell_type": "code",
      "execution_count": 22,
      "id": "f00ff9ea",
      "metadata": {
        "id": "f00ff9ea",
        "colab": {
          "base_uri": "https://localhost:8080/"
        },
        "outputId": "32fbab9f-37fa-4e94-c53c-77950bdc21ad"
      },
      "outputs": [
        {
          "output_type": "execute_result",
          "data": {
            "text/plain": [
              "Primary education                  12791\n",
              "No formal education                 4515\n",
              "Secondary education                 4223\n",
              "Tertiary education                  1157\n",
              "Vocational/Specialised training      803\n",
              "Other/Dont know/RTA                   35\n",
              "Name: education_level, dtype: int64"
            ]
          },
          "metadata": {},
          "execution_count": 22
        }
      ],
      "source": [
        "train_data['education_level'].value_counts()"
      ]
    },
    {
      "cell_type": "code",
      "execution_count": 23,
      "id": "73232c40",
      "metadata": {
        "id": "73232c40",
        "colab": {
          "base_uri": "https://localhost:8080/"
        },
        "outputId": "9bdf26a3-78d1-4121-8063-234130346677"
      },
      "outputs": [
        {
          "output_type": "execute_result",
          "data": {
            "text/plain": [
              "Self employed                   6437\n",
              "Informally employed             5597\n",
              "Farming and Fishing             5441\n",
              "Remittance Dependent            2527\n",
              "Other Income                    1080\n",
              "Formally employed Private       1055\n",
              "No Income                        627\n",
              "Formally employed Government     387\n",
              "Government Dependent             247\n",
              "Dont Know/Refuse to answer       126\n",
              "Name: job_type, dtype: int64"
            ]
          },
          "metadata": {},
          "execution_count": 23
        }
      ],
      "source": [
        "train_data['job_type'].value_counts()"
      ]
    },
    {
      "cell_type": "code",
      "execution_count": 24,
      "id": "932811d6",
      "metadata": {
        "id": "932811d6",
        "colab": {
          "base_uri": "https://localhost:8080/",
          "height": 289
        },
        "outputId": "93dc51a7-ecd7-485b-9a93-18272893753e"
      },
      "outputs": [
        {
          "output_type": "execute_result",
          "data": {
            "text/plain": [
              "<matplotlib.axes._subplots.AxesSubplot at 0x7ff8a38398d0>"
            ]
          },
          "metadata": {},
          "execution_count": 24
        },
        {
          "output_type": "display_data",
          "data": {
            "text/plain": [
              "<Figure size 432x288 with 1 Axes>"
            ],
            "image/png": "[encoded data removed]"
          },
          "metadata": {
            "needs_background": "light"
          }
        }
      ],
      "source": [
        "#univariate analysis using visualization tools\n",
        "train_data['bank_account'].value_counts().plot.bar()"
      ]
    },
    {
      "cell_type": "code",
      "execution_count": 25,
      "id": "09318634",
      "metadata": {
        "id": "09318634",
        "colab": {
          "base_uri": "https://localhost:8080/",
          "height": 317
        },
        "outputId": "d06b4faf-0672-4d7d-9d20-2d3bd346ea2f"
      },
      "outputs": [
        {
          "output_type": "execute_result",
          "data": {
            "text/plain": [
              "<matplotlib.axes._subplots.AxesSubplot at 0x7ff8a372e110>"
            ]
          },
          "metadata": {},
          "execution_count": 25
        },
        {
          "output_type": "display_data",
          "data": {
            "text/plain": [
              "<Figure size 432x288 with 1 Axes>"
            ],
            "image/png": "[encoded data removed]"
          },
          "metadata": {
            "needs_background": "light"
          }
        }
      ],
      "source": [
        "train_data['country'].value_counts().plot.bar()"
      ]
    },
    {
      "cell_type": "code",
      "execution_count": 26,
      "id": "eed2ec12",
      "metadata": {
        "id": "eed2ec12",
        "colab": {
          "base_uri": "https://localhost:8080/",
          "height": 299
        },
        "outputId": "744ac2a2-77bb-4f37-d779-a149bb6a5b2f"
      },
      "outputs": [
        {
          "output_type": "execute_result",
          "data": {
            "text/plain": [
              "<matplotlib.axes._subplots.AxesSubplot at 0x7ff8a3228b10>"
            ]
          },
          "metadata": {},
          "execution_count": 26
        },
        {
          "output_type": "display_data",
          "data": {
            "text/plain": [
              "<Figure size 432x288 with 1 Axes>"
            ],
            "image/png": "[encoded data removed]"
          },
          "metadata": {
            "needs_background": "light"
          }
        }
      ],
      "source": [
        "train_data['year'].value_counts().plot.bar()"
      ]
    },
    {
      "cell_type": "code",
      "execution_count": 27,
      "id": "36bf3754",
      "metadata": {
        "id": "36bf3754",
        "colab": {
          "base_uri": "https://localhost:8080/",
          "height": 304
        },
        "outputId": "55666ae2-87e8-49df-a2d3-a25be0a0ee45"
      },
      "outputs": [
        {
          "output_type": "execute_result",
          "data": {
            "text/plain": [
              "<matplotlib.axes._subplots.AxesSubplot at 0x7ff8a317ad50>"
            ]
          },
          "metadata": {},
          "execution_count": 27
        },
        {
          "output_type": "display_data",
          "data": {
            "text/plain": [
              "<Figure size 432x288 with 1 Axes>"
            ],
            "image/png": "[encoded data removed]"
          },
          "metadata": {
            "needs_background": "light"
          }
        }
      ],
      "source": [
        "train_data['location_type'].value_counts().plot.bar()"
      ]
    },
    {
      "cell_type": "code",
      "execution_count": 28,
      "id": "973c53ee",
      "metadata": {
        "id": "973c53ee",
        "colab": {
          "base_uri": "https://localhost:8080/",
          "height": 289
        },
        "outputId": "0691d674-83c8-4e2a-c913-1909fd2401af"
      },
      "outputs": [
        {
          "output_type": "execute_result",
          "data": {
            "text/plain": [
              "<matplotlib.axes._subplots.AxesSubplot at 0x7ff8a3173450>"
            ]
          },
          "metadata": {},
          "execution_count": 28
        },
        {
          "output_type": "display_data",
          "data": {
            "text/plain": [
              "<Figure size 432x288 with 1 Axes>"
            ],
            "image/png": "[encoded data removed]"
          },
          "metadata": {
            "needs_background": "light"
          }
        }
      ],
      "source": [
        "train_data['cellphone_access'].value_counts().plot.bar()"
      ]
    },
    {
      "cell_type": "code",
      "execution_count": 29,
      "id": "ad014e67",
      "metadata": {
        "id": "ad014e67",
        "colab": {
          "base_uri": "https://localhost:8080/",
          "height": 354
        },
        "outputId": "2013536c-b038-4c6a-c209-970fc256d604"
      },
      "outputs": [
        {
          "output_type": "stream",
          "name": "stderr",
          "text": [
            "/usr/local/lib/python3.7/dist-packages/seaborn/_decorators.py:43: FutureWarning: Pass the following variable as a keyword arg: x. From version 0.12, the only valid positional argument will be `data`, and passing other arguments without an explicit keyword will result in an error or misinterpretation.\n",
            "  FutureWarning\n"
          ]
        },
        {
          "output_type": "execute_result",
          "data": {
            "text/plain": [
              "<matplotlib.axes._subplots.AxesSubplot at 0x7ff8a3086a50>"
            ]
          },
          "metadata": {},
          "execution_count": 29
        },
        {
          "output_type": "display_data",
          "data": {
            "text/plain": [
              "<Figure size 432x288 with 1 Axes>"
            ],
            "image/png": "[encoded data removed]"
          },
          "metadata": {
            "needs_background": "light"
          }
        }
      ],
      "source": [
        "sns.countplot(train_data['household_size'])"
      ]
    },
    {
      "cell_type": "code",
      "execution_count": 30,
      "id": "8ebd2541",
      "metadata": {
        "id": "8ebd2541",
        "colab": {
          "base_uri": "https://localhost:8080/",
          "height": 336
        },
        "outputId": "3628085b-18aa-471e-8e18-3f711c28c804"
      },
      "outputs": [
        {
          "output_type": "execute_result",
          "data": {
            "text/plain": [
              "(array([8.286e+03, 7.394e+03, 4.949e+03, 2.151e+03, 5.530e+02, 1.370e+02,\n",
              "        3.500e+01, 1.500e+01, 2.000e+00, 2.000e+00]),\n",
              " array([ 1.,  3.,  5.,  7.,  9., 11., 13., 15., 17., 19., 21.]),\n",
              " <a list of 10 Patch objects>)"
            ]
          },
          "metadata": {},
          "execution_count": 30
        },
        {
          "output_type": "display_data",
          "data": {
            "text/plain": [
              "<Figure size 432x288 with 1 Axes>"
            ],
            "image/png": "[encoded data removed]"
          },
          "metadata": {
            "needs_background": "light"
          }
        }
      ],
      "source": [
        "plt.hist(train_data['household_size'])"
      ]
    },
    {
      "cell_type": "code",
      "execution_count": 31,
      "id": "cb98ce27",
      "metadata": {
        "id": "cb98ce27",
        "colab": {
          "base_uri": "https://localhost:8080/",
          "height": 309
        },
        "outputId": "a53cb630-3bca-461d-f7ce-3ce4b3f53dc9"
      },
      "outputs": [
        {
          "output_type": "execute_result",
          "data": {
            "text/plain": [
              "<matplotlib.axes._subplots.AxesSubplot at 0x7ff8a3159450>"
            ]
          },
          "metadata": {},
          "execution_count": 31
        },
        {
          "output_type": "display_data",
          "data": {
            "text/plain": [
              "<Figure size 432x288 with 1 Axes>"
            ],
            "image/png": "[encoded data removed]"
          },
          "metadata": {
            "needs_background": "light"
          }
        }
      ],
      "source": [
        "train_data['gender_of_respondent'].value_counts().plot.bar()"
      ]
    },
    {
      "cell_type": "code",
      "execution_count": 32,
      "id": "5ef8458e",
      "metadata": {
        "id": "5ef8458e",
        "colab": {
          "base_uri": "https://localhost:8080/",
          "height": 319
        },
        "outputId": "d8ffec4d-bf9a-464d-f738-4e86a5bd9712"
      },
      "outputs": [
        {
          "output_type": "execute_result",
          "data": {
            "text/plain": [
              "([<matplotlib.patches.Wedge at 0x7ff8a2e7fe10>,\n",
              "  <matplotlib.patches.Wedge at 0x7ff8a2e8d2d0>],\n",
              " [Text(-0.30658550453375394, 1.0564115336410256, 'female'),\n",
              "  Text(0.30658550453375427, -1.0564115336410256, 'male')])"
            ]
          },
          "metadata": {},
          "execution_count": 32
        },
        {
          "output_type": "display_data",
          "data": {
            "text/plain": [
              "<Figure size 432x288 with 1 Axes>"
            ],
            "image/png": "[encoded data removed]"
          },
          "metadata": {}
        }
      ],
      "source": [
        "plt.pie(train_data['gender_of_respondent'].value_counts(), labels = ['female', 'male'], shadow = True)"
      ]
    },
    {
      "cell_type": "code",
      "execution_count": 33,
      "id": "a294b619",
      "metadata": {
        "id": "a294b619",
        "colab": {
          "base_uri": "https://localhost:8080/",
          "height": 354
        },
        "outputId": "ec009239-9c12-41a1-cfd4-c69ba1acd68f"
      },
      "outputs": [
        {
          "output_type": "execute_result",
          "data": {
            "text/plain": [
              "(array([4809., 5480., 4707., 2785., 2164., 1733.,  965.,  640.,  189.,\n",
              "          52.]),\n",
              " array([ 16. ,  24.4,  32.8,  41.2,  49.6,  58. ,  66.4,  74.8,  83.2,\n",
              "         91.6, 100. ]),\n",
              " <a list of 10 Patch objects>)"
            ]
          },
          "metadata": {},
          "execution_count": 33
        },
        {
          "output_type": "display_data",
          "data": {
            "text/plain": [
              "<Figure size 432x288 with 1 Axes>"
            ],
            "image/png": "[encoded data removed]"
          },
          "metadata": {
            "needs_background": "light"
          }
        }
      ],
      "source": [
        "plt.hist(train_data['age_of_respondent'])"
      ]
    },
    {
      "cell_type": "code",
      "execution_count": 34,
      "id": "7ac99853",
      "metadata": {
        "id": "7ac99853",
        "colab": {
          "base_uri": "https://localhost:8080/",
          "height": 370
        },
        "outputId": "5b930ce8-41b5-4e43-afa5-d9c0f2153d23"
      },
      "outputs": [
        {
          "output_type": "execute_result",
          "data": {
            "text/plain": [
              "<matplotlib.axes._subplots.AxesSubplot at 0x7ff8a2e6c1d0>"
            ]
          },
          "metadata": {},
          "execution_count": 34
        },
        {
          "output_type": "display_data",
          "data": {
            "text/plain": [
              "<Figure size 432x288 with 1 Axes>"
            ],
            "image/png": "[encoded data removed]"
          },
          "metadata": {
            "needs_background": "light"
          }
        }
      ],
      "source": [
        "train_data['relationship_with_head'].value_counts().plot.bar()"
      ]
    },
    {
      "cell_type": "code",
      "execution_count": 35,
      "id": "2a0447af",
      "metadata": {
        "id": "2a0447af",
        "colab": {
          "base_uri": "https://localhost:8080/",
          "height": 336
        },
        "outputId": "68a2d524-80b0-42f5-e4b9-5b156d98a42d"
      },
      "outputs": [
        {
          "output_type": "execute_result",
          "data": {
            "text/plain": [
              "(array([1.0749e+04, 0.0000e+00, 2.7080e+03, 0.0000e+00, 0.0000e+00,\n",
              "        7.9830e+03, 0.0000e+00, 2.0760e+03, 0.0000e+00, 8.0000e+00]),\n",
              " array([0. , 0.4, 0.8, 1.2, 1.6, 2. , 2.4, 2.8, 3.2, 3.6, 4. ]),\n",
              " <a list of 10 Patch objects>)"
            ]
          },
          "metadata": {},
          "execution_count": 35
        },
        {
          "output_type": "display_data",
          "data": {
            "text/plain": [
              "<Figure size 432x288 with 1 Axes>"
            ],
            "image/png": "[encoded data removed]"
          },
          "metadata": {
            "needs_background": "light"
          }
        }
      ],
      "source": [
        "plt.hist(train_data['marital_status'])"
      ]
    },
    {
      "cell_type": "code",
      "execution_count": 36,
      "id": "419310a4",
      "metadata": {
        "id": "419310a4",
        "colab": {
          "base_uri": "https://localhost:8080/",
          "height": 427
        },
        "outputId": "c57ebaa1-1e7f-4cfd-8c4d-2e59e743076a"
      },
      "outputs": [
        {
          "output_type": "execute_result",
          "data": {
            "text/plain": [
              "<matplotlib.axes._subplots.AxesSubplot at 0x7ff8a2d2b1d0>"
            ]
          },
          "metadata": {},
          "execution_count": 36
        },
        {
          "output_type": "display_data",
          "data": {
            "text/plain": [
              "<Figure size 432x288 with 1 Axes>"
            ],
            "image/png": "[encoded data removed]"
          },
          "metadata": {
            "needs_background": "light"
          }
        }
      ],
      "source": [
        "train_data['education_level'].value_counts().plot.bar()"
      ]
    },
    {
      "cell_type": "code",
      "execution_count": 37,
      "id": "b659e16b",
      "metadata": {
        "id": "b659e16b",
        "colab": {
          "base_uri": "https://localhost:8080/",
          "height": 434
        },
        "outputId": "831af369-ab42-416f-942f-fbc68cd191ea"
      },
      "outputs": [
        {
          "output_type": "execute_result",
          "data": {
            "text/plain": [
              "<matplotlib.axes._subplots.AxesSubplot at 0x7ff8a2ca6310>"
            ]
          },
          "metadata": {},
          "execution_count": 37
        },
        {
          "output_type": "display_data",
          "data": {
            "text/plain": [
              "<Figure size 432x288 with 1 Axes>"
            ],
            "image/png": "[encoded data removed]"
          },
          "metadata": {
            "needs_background": "light"
          }
        }
      ],
      "source": [
        "train_data['job_type'].value_counts().plot.bar()"
      ]
    },
    {
      "cell_type": "code",
      "execution_count": 38,
      "id": "8a04a81e",
      "metadata": {
        "id": "8a04a81e",
        "colab": {
          "base_uri": "https://localhost:8080/",
          "height": 298
        },
        "outputId": "fac7d461-fb07-4fbb-9087-b8e1b95909b3"
      },
      "outputs": [
        {
          "output_type": "execute_result",
          "data": {
            "text/plain": [
              "<matplotlib.axes._subplots.AxesSubplot at 0x7ff8a2c1efd0>"
            ]
          },
          "metadata": {},
          "execution_count": 38
        },
        {
          "output_type": "display_data",
          "data": {
            "text/plain": [
              "<Figure size 432x288 with 1 Axes>"
            ],
            "image/png": "[encoded data removed]"
          },
          "metadata": {
            "needs_background": "light"
          }
        }
      ],
      "source": [
        "#bivariate analysis\n",
        "sns.countplot(x = 'country', data = train_data, hue = 'bank_account')"
      ]
    },
    {
      "cell_type": "code",
      "execution_count": 39,
      "id": "449b3a0f",
      "metadata": {
        "id": "449b3a0f",
        "colab": {
          "base_uri": "https://localhost:8080/",
          "height": 298
        },
        "outputId": "498cd85c-0932-44dd-c864-e63bab546fa0"
      },
      "outputs": [
        {
          "output_type": "execute_result",
          "data": {
            "text/plain": [
              "<matplotlib.axes._subplots.AxesSubplot at 0x7ff8a2bb42d0>"
            ]
          },
          "metadata": {},
          "execution_count": 39
        },
        {
          "output_type": "display_data",
          "data": {
            "text/plain": [
              "<Figure size 432x288 with 1 Axes>"
            ],
            "image/png": "[encoded data removed]"
          },
          "metadata": {
            "needs_background": "light"
          }
        }
      ],
      "source": [
        "sns.countplot(x = 'year', data = train_data, hue = 'bank_account')"
      ]
    },
    {
      "cell_type": "code",
      "execution_count": 40,
      "id": "b3ac5a61",
      "metadata": {
        "id": "b3ac5a61",
        "colab": {
          "base_uri": "https://localhost:8080/",
          "height": 298
        },
        "outputId": "b0e0f7d4-0af9-4cf9-c96f-812234fc3093"
      },
      "outputs": [
        {
          "output_type": "execute_result",
          "data": {
            "text/plain": [
              "<matplotlib.axes._subplots.AxesSubplot at 0x7ff8a2b23510>"
            ]
          },
          "metadata": {},
          "execution_count": 40
        },
        {
          "output_type": "display_data",
          "data": {
            "text/plain": [
              "<Figure size 432x288 with 1 Axes>"
            ],
            "image/png": "[encoded data removed]"
          },
          "metadata": {
            "needs_background": "light"
          }
        }
      ],
      "source": [
        "sns.countplot(x = 'location_type', data = train_data, hue = 'bank_account')"
      ]
    },
    {
      "cell_type": "code",
      "execution_count": 41,
      "id": "3a3cdc31",
      "metadata": {
        "id": "3a3cdc31",
        "colab": {
          "base_uri": "https://localhost:8080/",
          "height": 298
        },
        "outputId": "3017b8fa-00cb-4b2d-ca4b-f3f8f7b40669"
      },
      "outputs": [
        {
          "output_type": "execute_result",
          "data": {
            "text/plain": [
              "<matplotlib.axes._subplots.AxesSubplot at 0x7ff8a2a3ac90>"
            ]
          },
          "metadata": {},
          "execution_count": 41
        },
        {
          "output_type": "display_data",
          "data": {
            "text/plain": [
              "<Figure size 432x288 with 1 Axes>"
            ],
            "image/png": "[encoded data removed]"
          },
          "metadata": {
            "needs_background": "light"
          }
        }
      ],
      "source": [
        "sns.countplot(x = 'cellphone_access', data = train_data, hue = 'bank_account')"
      ]
    },
    {
      "cell_type": "code",
      "execution_count": 42,
      "id": "179441d6",
      "metadata": {
        "id": "179441d6",
        "colab": {
          "base_uri": "https://localhost:8080/",
          "height": 297
        },
        "outputId": "11dde40b-bba6-4a91-9cfb-59ec7113fd08"
      },
      "outputs": [
        {
          "output_type": "execute_result",
          "data": {
            "text/plain": [
              "<matplotlib.axes._subplots.AxesSubplot at 0x7ff8a2a7b110>"
            ]
          },
          "metadata": {},
          "execution_count": 42
        },
        {
          "output_type": "display_data",
          "data": {
            "text/plain": [
              "<Figure size 432x288 with 1 Axes>"
            ],
            "image/png": "[encoded data removed]"
          },
          "metadata": {
            "needs_background": "light"
          }
        }
      ],
      "source": [
        "sns.countplot(y = 'household_size', data = train_data, hue = 'bank_account')"
      ]
    },
    {
      "cell_type": "code",
      "execution_count": 43,
      "id": "a8e2b561",
      "metadata": {
        "id": "a8e2b561",
        "colab": {
          "base_uri": "https://localhost:8080/",
          "height": 298
        },
        "outputId": "b8256a01-1e63-436d-9163-89d6f09574bb"
      },
      "outputs": [
        {
          "output_type": "execute_result",
          "data": {
            "text/plain": [
              "<matplotlib.axes._subplots.AxesSubplot at 0x7ff8a289e850>"
            ]
          },
          "metadata": {},
          "execution_count": 43
        },
        {
          "output_type": "display_data",
          "data": {
            "text/plain": [
              "<Figure size 432x288 with 1 Axes>"
            ],
            "image/png": "[encoded data removed]"
          },
          "metadata": {
            "needs_background": "light"
          }
        }
      ],
      "source": [
        "sns.countplot(x = 'age_of_respondent', data = train_data, hue = 'bank_account')"
      ]
    },
    {
      "cell_type": "code",
      "execution_count": 44,
      "id": "599ac149",
      "metadata": {
        "id": "599ac149",
        "colab": {
          "base_uri": "https://localhost:8080/",
          "height": 298
        },
        "outputId": "798f9c70-8c80-4432-8478-6a6ee25e6dea"
      },
      "outputs": [
        {
          "output_type": "execute_result",
          "data": {
            "text/plain": [
              "<matplotlib.axes._subplots.AxesSubplot at 0x7ff8a25be450>"
            ]
          },
          "metadata": {},
          "execution_count": 44
        },
        {
          "output_type": "display_data",
          "data": {
            "text/plain": [
              "<Figure size 432x288 with 1 Axes>"
            ],
            "image/png": "[encoded data removed]"
          },
          "metadata": {
            "needs_background": "light"
          }
        }
      ],
      "source": [
        "sns.countplot(x = 'gender_of_respondent', data = train_data, hue = 'bank_account')"
      ]
    },
    {
      "cell_type": "code",
      "execution_count": 45,
      "id": "f79c5e4b",
      "metadata": {
        "id": "f79c5e4b",
        "colab": {
          "base_uri": "https://localhost:8080/",
          "height": 297
        },
        "outputId": "c5173266-46de-4579-b08d-225a9c8e7c9a"
      },
      "outputs": [
        {
          "output_type": "execute_result",
          "data": {
            "text/plain": [
              "<matplotlib.axes._subplots.AxesSubplot at 0x7ff8a2505390>"
            ]
          },
          "metadata": {},
          "execution_count": 45
        },
        {
          "output_type": "display_data",
          "data": {
            "text/plain": [
              "<Figure size 432x288 with 1 Axes>"
            ],
            "image/png": "[encoded data removed]"
          },
          "metadata": {
            "needs_background": "light"
          }
        }
      ],
      "source": [
        "sns.countplot(y = 'relationship_with_head', data = train_data, hue = 'bank_account')"
      ]
    },
    {
      "cell_type": "code",
      "execution_count": 46,
      "id": "a8bdbf8a",
      "metadata": {
        "id": "a8bdbf8a",
        "colab": {
          "base_uri": "https://localhost:8080/",
          "height": 297
        },
        "outputId": "57480aec-6042-4a81-c8ef-fa5093042e48"
      },
      "outputs": [
        {
          "output_type": "execute_result",
          "data": {
            "text/plain": [
              "<matplotlib.axes._subplots.AxesSubplot at 0x7ff8a248ead0>"
            ]
          },
          "metadata": {},
          "execution_count": 46
        },
        {
          "output_type": "display_data",
          "data": {
            "text/plain": [
              "<Figure size 432x288 with 1 Axes>"
            ],
            "image/png": "[encoded data removed]"
          },
          "metadata": {
            "needs_background": "light"
          }
        }
      ],
      "source": [
        "sns.countplot(y = 'marital_status', data = train_data, hue = 'bank_account')"
      ]
    },
    {
      "cell_type": "code",
      "execution_count": 47,
      "id": "e3ac109c",
      "metadata": {
        "id": "e3ac109c",
        "colab": {
          "base_uri": "https://localhost:8080/",
          "height": 297
        },
        "outputId": "371128aa-6dee-41a3-9820-8dc8a89dc356"
      },
      "outputs": [
        {
          "output_type": "execute_result",
          "data": {
            "text/plain": [
              "<matplotlib.axes._subplots.AxesSubplot at 0x7ff8a23fc590>"
            ]
          },
          "metadata": {},
          "execution_count": 47
        },
        {
          "output_type": "display_data",
          "data": {
            "text/plain": [
              "<Figure size 432x288 with 1 Axes>"
            ],
            "image/png": "[encoded data removed]"
          },
          "metadata": {
            "needs_background": "light"
          }
        }
      ],
      "source": [
        "sns.countplot(y = 'education_level', data = train_data, hue = 'bank_account')"
      ]
    },
    {
      "cell_type": "code",
      "execution_count": 48,
      "id": "c05d7863",
      "metadata": {
        "id": "c05d7863",
        "colab": {
          "base_uri": "https://localhost:8080/",
          "height": 297
        },
        "outputId": "beb0eb1e-5ed4-4b8f-d833-8f0fa3f4e6c0"
      },
      "outputs": [
        {
          "output_type": "execute_result",
          "data": {
            "text/plain": [
              "<matplotlib.axes._subplots.AxesSubplot at 0x7ff8a2398a50>"
            ]
          },
          "metadata": {},
          "execution_count": 48
        },
        {
          "output_type": "display_data",
          "data": {
            "text/plain": [
              "<Figure size 432x288 with 1 Axes>"
            ],
            "image/png": "[encoded data removed]"
          },
          "metadata": {
            "needs_background": "light"
          }
        }
      ],
      "source": [
        "sns.countplot(y = 'job_type', data = train_data, hue = 'bank_account')"
      ]
    },
    {
      "cell_type": "code",
      "execution_count": 49,
      "id": "0eb07776",
      "metadata": {
        "id": "0eb07776"
      },
      "outputs": [],
      "source": [
        "train_data['age_bins'] = pd.cut(train_data['age_of_respondent'], bins = 3,\n",
        "                        labels = ['Young', 'Adult', 'Elderly'])\n",
        "test_data['age_bins'] = pd.cut(train_data['age_of_respondent'], bins = 3,\n",
        "                        labels = ['Young', 'Adult', 'Elderly'])"
      ]
    },
    {
      "cell_type": "code",
      "execution_count": 50,
      "id": "5e6ae6b3",
      "metadata": {
        "id": "5e6ae6b3",
        "colab": {
          "base_uri": "https://localhost:8080/",
          "height": 298
        },
        "outputId": "efbd0c66-d92f-4a17-9dd0-2692e80d74df"
      },
      "outputs": [
        {
          "output_type": "execute_result",
          "data": {
            "text/plain": [
              "<matplotlib.axes._subplots.AxesSubplot at 0x7ff8a2362f10>"
            ]
          },
          "metadata": {},
          "execution_count": 50
        },
        {
          "output_type": "display_data",
          "data": {
            "text/plain": [
              "<Figure size 432x288 with 1 Axes>"
            ],
            "image/png": "[encoded data removed]"
          },
          "metadata": {
            "needs_background": "light"
          }
        }
      ],
      "source": [
        "sns.countplot(x = 'age_bins', hue = 'bank_account', data = train_data)"
      ]
    },
    {
      "cell_type": "code",
      "execution_count": 51,
      "id": "bb8c427c",
      "metadata": {
        "id": "bb8c427c",
        "colab": {
          "base_uri": "https://localhost:8080/"
        },
        "outputId": "97edb11a-79b9-492f-d56f-133b70182782"
      },
      "outputs": [
        {
          "output_type": "execute_result",
          "data": {
            "text/plain": [
              "Index(['country', 'year', 'uniqueid', 'bank_account', 'location_type',\n",
              "       'cellphone_access', 'household_size', 'age_of_respondent',\n",
              "       'gender_of_respondent', 'relationship_with_head', 'marital_status',\n",
              "       'education_level', 'job_type', 'age_bins'],\n",
              "      dtype='object')"
            ]
          },
          "metadata": {},
          "execution_count": 51
        }
      ],
      "source": [
        "train_data.columns"
      ]
    },
    {
      "cell_type": "code",
      "execution_count": 52,
      "id": "07cfa90a",
      "metadata": {
        "id": "07cfa90a",
        "colab": {
          "base_uri": "https://localhost:8080/"
        },
        "outputId": "e08c9380-9d52-420b-b5c0-973f408a020b"
      },
      "outputs": [
        {
          "output_type": "execute_result",
          "data": {
            "text/plain": [
              "Index(['country', 'year', 'bank_account', 'location_type', 'cellphone_access',\n",
              "       'household_size', 'age_of_respondent', 'gender_of_respondent',\n",
              "       'relationship_with_head', 'marital_status', 'education_level',\n",
              "       'job_type', 'age_bins'],\n",
              "      dtype='object')"
            ]
          },
          "metadata": {},
          "execution_count": 52
        }
      ],
      "source": [
        "#data preparation for machine learning: data cleaning and data pre-processing\n",
        "#data cleaning\n",
        "train_data = train_data.drop(['uniqueid'], axis = 1)\n",
        "train_data.columns"
      ]
    },
    {
      "cell_type": "code",
      "execution_count": 53,
      "id": "510f1425",
      "metadata": {
        "id": "510f1425",
        "colab": {
          "base_uri": "https://localhost:8080/"
        },
        "outputId": "d5de0ae7-2515-4efe-9d39-af963bfc2d3e"
      },
      "outputs": [
        {
          "output_type": "execute_result",
          "data": {
            "text/plain": [
              "Index(['country', 'year', 'location_type', 'cellphone_access',\n",
              "       'household_size', 'age_of_respondent', 'gender_of_respondent',\n",
              "       'relationship_with_head', 'marital_status', 'education_level',\n",
              "       'job_type', 'age_bins'],\n",
              "      dtype='object')"
            ]
          },
          "metadata": {},
          "execution_count": 53
        }
      ],
      "source": [
        "test_data = test_data.drop(['uniqueid'], axis = 1)\n",
        "\n",
        "test_data.columns"
      ]
    },
    {
      "cell_type": "markdown",
      "id": "413858bf",
      "metadata": {
        "id": "413858bf"
      },
      "source": [
        "Data pre-processing: splitting the data into training data and testing data before pre-processing. We need to convert the categorical variables (objects) to numerical variables for machine learning, use onehot encoder\n",
        "We should also convert the target variables (bank_account) to numerical variables using label encoder (1, 0)\n",
        "Scale our data using minmax scaler or standard scaler\n",
        "\n"
      ]
    },
    {
      "cell_type": "code",
      "source": [
        "!pip install category_encoders"
      ],
      "metadata": {
        "colab": {
          "base_uri": "https://localhost:8080/"
        },
        "id": "8FjaNFmr9BGg",
        "outputId": "2018ae2e-1f0c-4f66-d3e8-b03dd3619c60"
      },
      "id": "8FjaNFmr9BGg",
      "execution_count": 54,
      "outputs": [
        {
          "output_type": "stream",
          "name": "stdout",
          "text": [
            "Looking in indexes: https://pypi.org/simple, https://us-python.pkg.dev/colab-wheels/public/simple/\n",
            "Collecting category_encoders\n",
            "  Downloading category_encoders-2.4.1-py2.py3-none-any.whl (80 kB)\n",
            "\u001b[K     |████████████████████████████████| 80 kB 5.5 MB/s \n",
            "\u001b[?25hRequirement already satisfied: statsmodels>=0.9.0 in /usr/local/lib/python3.7/dist-packages (from category_encoders) (0.10.2)\n",
            "Requirement already satisfied: scikit-learn>=0.20.0 in /usr/local/lib/python3.7/dist-packages (from category_encoders) (1.0.2)\n",
            "Requirement already satisfied: numpy>=1.14.0 in /usr/local/lib/python3.7/dist-packages (from category_encoders) (1.21.6)\n",
            "Requirement already satisfied: scipy>=1.0.0 in /usr/local/lib/python3.7/dist-packages (from category_encoders) (1.4.1)\n",
            "Requirement already satisfied: patsy>=0.5.1 in /usr/local/lib/python3.7/dist-packages (from category_encoders) (0.5.2)\n",
            "Requirement already satisfied: pandas>=0.21.1 in /usr/local/lib/python3.7/dist-packages (from category_encoders) (1.3.5)\n",
            "Requirement already satisfied: pytz>=2017.3 in /usr/local/lib/python3.7/dist-packages (from pandas>=0.21.1->category_encoders) (2022.1)\n",
            "Requirement already satisfied: python-dateutil>=2.7.3 in /usr/local/lib/python3.7/dist-packages (from pandas>=0.21.1->category_encoders) (2.8.2)\n",
            "Requirement already satisfied: six in /usr/local/lib/python3.7/dist-packages (from patsy>=0.5.1->category_encoders) (1.15.0)\n",
            "Requirement already satisfied: threadpoolctl>=2.0.0 in /usr/local/lib/python3.7/dist-packages (from scikit-learn>=0.20.0->category_encoders) (3.1.0)\n",
            "Requirement already satisfied: joblib>=0.11 in /usr/local/lib/python3.7/dist-packages (from scikit-learn>=0.20.0->category_encoders) (1.1.0)\n",
            "Installing collected packages: category-encoders\n",
            "Successfully installed category-encoders-2.4.1\n"
          ]
        }
      ]
    },
    {
      "cell_type": "code",
      "source": [
        "import category_encoders as ce"
      ],
      "metadata": {
        "id": "v7q2nQI_9H3s",
        "colab": {
          "base_uri": "https://localhost:8080/"
        },
        "outputId": "42df56d6-67db-45e9-a03c-bc40358495c5"
      },
      "id": "v7q2nQI_9H3s",
      "execution_count": 55,
      "outputs": [
        {
          "output_type": "stream",
          "name": "stderr",
          "text": [
            "/usr/local/lib/python3.7/dist-packages/statsmodels/tools/_testing.py:19: FutureWarning: pandas.util.testing is deprecated. Use the functions in the public API at pandas.testing instead.\n",
            "  import pandas.util.testing as tm\n"
          ]
        }
      ]
    },
    {
      "cell_type": "code",
      "source": [
        "from sklearn.compose import make_column_selector as selector\n",
        "categorical_columns_selector = selector(dtype_include=object)\n",
        "categorical_columns = categorical_columns_selector(train_data)\n",
        "categorical_columns"
      ],
      "metadata": {
        "colab": {
          "base_uri": "https://localhost:8080/"
        },
        "id": "kQ7Hl1q19mV1",
        "outputId": "f89389c8-163c-43ff-94d7-5753c69e8969"
      },
      "id": "kQ7Hl1q19mV1",
      "execution_count": 56,
      "outputs": [
        {
          "output_type": "execute_result",
          "data": {
            "text/plain": [
              "['country',\n",
              " 'bank_account',\n",
              " 'location_type',\n",
              " 'cellphone_access',\n",
              " 'gender_of_respondent',\n",
              " 'relationship_with_head',\n",
              " 'marital_status',\n",
              " 'education_level',\n",
              " 'job_type']"
            ]
          },
          "metadata": {},
          "execution_count": 56
        }
      ]
    },
    {
      "cell_type": "code",
      "source": [
        "train_data.head(2)"
      ],
      "metadata": {
        "colab": {
          "base_uri": "https://localhost:8080/",
          "height": 211
        },
        "id": "3ZGDWbKW_WUF",
        "outputId": "d1d61110-9eac-4d6c-9377-7544965d6a0b"
      },
      "id": "3ZGDWbKW_WUF",
      "execution_count": 57,
      "outputs": [
        {
          "output_type": "execute_result",
          "data": {
            "text/plain": [
              "  country  year bank_account location_type cellphone_access  household_size  \\\n",
              "0   Kenya  2018          Yes         Rural              Yes               3   \n",
              "1   Kenya  2018           No         Rural               No               5   \n",
              "\n",
              "   age_of_respondent gender_of_respondent relationship_with_head  \\\n",
              "0                 24               Female                 Spouse   \n",
              "1                 70               Female      Head of Household   \n",
              "\n",
              "            marital_status      education_level              job_type age_bins  \n",
              "0  Married/Living together  Secondary education         Self employed    Young  \n",
              "1                  Widowed  No formal education  Government Dependent    Adult  "
            ],
            "text/html": [
              "\n",
              "  <div id=\"df-8c93b47f-2c6c-4fa7-9a94-4a76274ac5a2\">\n",
              "    <div class=\"colab-df-container\">\n",
              "      <div>\n",
              "<style scoped>\n",
              "    .dataframe tbody tr th:only-of-type {\n",
              "        vertical-align: middle;\n",
              "    }\n",
              "\n",
              "    .dataframe tbody tr th {\n",
              "        vertical-align: top;\n",
              "    }\n",
              "\n",
              "    .dataframe thead th {\n",
              "        text-align: right;\n",
              "    }\n",
              "</style>\n",
              "<table border=\"1\" class=\"dataframe\">\n",
              "  <thead>\n",
              "    <tr style=\"text-align: right;\">\n",
              "      <th></th>\n",
              "      <th>country</th>\n",
              "      <th>year</th>\n",
              "      <th>bank_account</th>\n",
              "      <th>location_type</th>\n",
              "      <th>cellphone_access</th>\n",
              "      <th>household_size</th>\n",
              "      <th>age_of_respondent</th>\n",
              "      <th>gender_of_respondent</th>\n",
              "      <th>relationship_with_head</th>\n",
              "      <th>marital_status</th>\n",
              "      <th>education_level</th>\n",
              "      <th>job_type</th>\n",
              "      <th>age_bins</th>\n",
              "    </tr>\n",
              "  </thead>\n",
              "  <tbody>\n",
              "    <tr>\n",
              "      <th>0</th>\n",
              "      <td>Kenya</td>\n",
              "      <td>2018</td>\n",
              "      <td>Yes</td>\n",
              "      <td>Rural</td>\n",
              "      <td>Yes</td>\n",
              "      <td>3</td>\n",
              "      <td>24</td>\n",
              "      <td>Female</td>\n",
              "      <td>Spouse</td>\n",
              "      <td>Married/Living together</td>\n",
              "      <td>Secondary education</td>\n",
              "      <td>Self employed</td>\n",
              "      <td>Young</td>\n",
              "    </tr>\n",
              "    <tr>\n",
              "      <th>1</th>\n",
              "      <td>Kenya</td>\n",
              "      <td>2018</td>\n",
              "      <td>No</td>\n",
              "      <td>Rural</td>\n",
              "      <td>No</td>\n",
              "      <td>5</td>\n",
              "      <td>70</td>\n",
              "      <td>Female</td>\n",
              "      <td>Head of Household</td>\n",
              "      <td>Widowed</td>\n",
              "      <td>No formal education</td>\n",
              "      <td>Government Dependent</td>\n",
              "      <td>Adult</td>\n",
              "    </tr>\n",
              "  </tbody>\n",
              "</table>\n",
              "</div>\n",
              "      <button class=\"colab-df-convert\" onclick=\"convertToInteractive('df-8c93b47f-2c6c-4fa7-9a94-4a76274ac5a2')\"\n",
              "              title=\"Convert this dataframe to an interactive table.\"\n",
              "              style=\"display:none;\">\n",
              "        \n",
              "  <svg xmlns=\"http://www.w3.org/2000/svg\" height=\"24px\"viewBox=\"0 0 24 24\"\n",
              "       width=\"24px\">\n",
              "    <path d=\"M0 0h24v24H0V0z\" fill=\"none\"/>\n",
              "    <path d=\"M18.56 5.44l.94 2.06.94-2.06 2.06-.94-2.06-.94-.94-2.06-.94 2.06-2.06.94zm-11 1L8.5 8.5l.94-2.06 2.06-.94-2.06-.94L8.5 2.5l-.94 2.06-2.06.94zm10 10l.94 2.06.94-2.06 2.06-.94-2.06-.94-.94-2.06-.94 2.06-2.06.94z\"/><path d=\"M17.41 7.96l-1.37-1.37c-.4-.4-.92-.59-1.43-.59-.52 0-1.04.2-1.43.59L10.3 9.45l-7.72 7.72c-.78.78-.78 2.05 0 2.83L4 21.41c.39.39.9.59 1.41.59.51 0 1.02-.2 1.41-.59l7.78-7.78 2.81-2.81c.8-.78.8-2.07 0-2.86zM5.41 20L4 18.59l7.72-7.72 1.47 1.35L5.41 20z\"/>\n",
              "  </svg>\n",
              "      </button>\n",
              "      \n",
              "  <style>\n",
              "    .colab-df-container {\n",
              "      display:flex;\n",
              "      flex-wrap:wrap;\n",
              "      gap: 12px;\n",
              "    }\n",
              "\n",
              "    .colab-df-convert {\n",
              "      background-color: #E8F0FE;\n",
              "      border: none;\n",
              "      border-radius: 50%;\n",
              "      cursor: pointer;\n",
              "      display: none;\n",
              "      fill: #1967D2;\n",
              "      height: 32px;\n",
              "      padding: 0 0 0 0;\n",
              "      width: 32px;\n",
              "    }\n",
              "\n",
              "    .colab-df-convert:hover {\n",
              "      background-color: #E2EBFA;\n",
              "      box-shadow: 0px 1px 2px rgba(60, 64, 67, 0.3), 0px 1px 3px 1px rgba(60, 64, 67, 0.15);\n",
              "      fill: #174EA6;\n",
              "    }\n",
              "\n",
              "    [theme=dark] .colab-df-convert {\n",
              "      background-color: #3B4455;\n",
              "      fill: #D2E3FC;\n",
              "    }\n",
              "\n",
              "    [theme=dark] .colab-df-convert:hover {\n",
              "      background-color: #434B5C;\n",
              "      box-shadow: 0px 1px 3px 1px rgba(0, 0, 0, 0.15);\n",
              "      filter: drop-shadow(0px 1px 2px rgba(0, 0, 0, 0.3));\n",
              "      fill: #FFFFFF;\n",
              "    }\n",
              "  </style>\n",
              "\n",
              "      <script>\n",
              "        const buttonEl =\n",
              "          document.querySelector('#df-8c93b47f-2c6c-4fa7-9a94-4a76274ac5a2 button.colab-df-convert');\n",
              "        buttonEl.style.display =\n",
              "          google.colab.kernel.accessAllowed ? 'block' : 'none';\n",
              "\n",
              "        async function convertToInteractive(key) {\n",
              "          const element = document.querySelector('#df-8c93b47f-2c6c-4fa7-9a94-4a76274ac5a2');\n",
              "          const dataTable =\n",
              "            await google.colab.kernel.invokeFunction('convertToInteractive',\n",
              "                                                     [key], {});\n",
              "          if (!dataTable) return;\n",
              "\n",
              "          const docLinkHtml = 'Like what you see? Visit the ' +\n",
              "            '<a target=\"_blank\" href=https://colab.research.google.com/notebooks/data_table.ipynb>data table notebook</a>'\n",
              "            + ' to learn more about interactive tables.';\n",
              "          element.innerHTML = '';\n",
              "          dataTable['output_type'] = 'display_data';\n",
              "          await google.colab.output.renderOutput(dataTable, element);\n",
              "          const docLink = document.createElement('div');\n",
              "          docLink.innerHTML = docLinkHtml;\n",
              "          element.appendChild(docLink);\n",
              "        }\n",
              "      </script>\n",
              "    </div>\n",
              "  </div>\n",
              "  "
            ]
          },
          "metadata": {},
          "execution_count": 57
        }
      ]
    },
    {
      "cell_type": "code",
      "source": [
        "ntrain = train_data.shape[0]\n",
        "ntest = test_data.shape[0]\n",
        "all_data = pd.concat((train_data,test_data)).reset_index(drop=True)\n",
        "print(f'The shape of the combined dataframe is: {all_data.shape}')"
      ],
      "metadata": {
        "colab": {
          "base_uri": "https://localhost:8080/"
        },
        "id": "stF3d-aA_MgF",
        "outputId": "78656d69-0b93-4059-c7b7-ef17b460d82d"
      },
      "id": "stF3d-aA_MgF",
      "execution_count": 58,
      "outputs": [
        {
          "output_type": "stream",
          "name": "stdout",
          "text": [
            "The shape of the combined dataframe is: (33610, 13)\n"
          ]
        }
      ]
    },
    {
      "cell_type": "code",
      "source": [
        "import category_encoders as ce\n",
        "from sklearn.model_selection import train_test_split\n",
        "\n",
        "X_train, X_test, y_train, y_test = train_test_split(all_data, all_data['bank_account'], test_size=0.3,\n",
        "                                                    random_state=0)\n",
        "X_train.shape, X_test.shape\n",
        "\n",
        "ord_enc = ce.OrdinalEncoder(cols=['country',\n",
        " 'location_type',\n",
        " 'cellphone_access',\n",
        " 'gender_of_respondent',\n",
        " 'relationship_with_head',\n",
        " 'marital_status',\n",
        " 'education_level',\n",
        " 'job_type',\n",
        " 'age_bins']).fit(X_train,y_train)\n",
        "\n",
        "\n",
        "data = ord_enc.transform(all_data)\n",
        "data.head()\n",
        "\n",
        "main_cols =data.columns.difference(['bank_account'])"
      ],
      "metadata": {
        "id": "VVgp9v5i-lA-"
      },
      "id": "VVgp9v5i-lA-",
      "execution_count": 59,
      "outputs": []
    },
    {
      "cell_type": "code",
      "source": [
        "train = data[:ntrain].copy()\n",
        "#train.drop_duplicates(inplace = True, ignore_index=True)\n",
        "target = train.bank_account.copy()\n",
        "train.drop('bank_account', axis=1, inplace=True)\n",
        "\n",
        "test = data[ntrain:].copy()\n",
        "test.drop('bank_account', axis=1, inplace=True)\n",
        "test = test.reset_index(drop=True)"
      ],
      "metadata": {
        "id": "F822ddG9_14O"
      },
      "id": "F822ddG9_14O",
      "execution_count": 60,
      "outputs": []
    },
    {
      "cell_type": "code",
      "source": [
        "train.head()"
      ],
      "metadata": {
        "colab": {
          "base_uri": "https://localhost:8080/",
          "height": 270
        },
        "id": "YHRlI6aR_9hu",
        "outputId": "f5cded13-bd6b-465f-cbbb-64c91c759104"
      },
      "id": "YHRlI6aR_9hu",
      "execution_count": 61,
      "outputs": [
        {
          "output_type": "execute_result",
          "data": {
            "text/plain": [
              "   country  year  location_type  cellphone_access  household_size  \\\n",
              "0        2  2018              2                 1               3   \n",
              "1        2  2018              2                 2               5   \n",
              "2        2  2018              1                 1               5   \n",
              "3        2  2018              2                 1               5   \n",
              "4        2  2018              1                 2               8   \n",
              "\n",
              "   age_of_respondent  gender_of_respondent  relationship_with_head  \\\n",
              "0                 24                     2                       2   \n",
              "1                 70                     2                       1   \n",
              "2                 26                     1                       4   \n",
              "3                 34                     2                       1   \n",
              "4                 26                     1                       3   \n",
              "\n",
              "   marital_status  education_level  job_type  age_bins  \n",
              "0               1                2         1         1  \n",
              "1               4                4         9         2  \n",
              "2               2                5         1         1  \n",
              "3               1                3         3         1  \n",
              "4               2                3         5         1  "
            ],
            "text/html": [
              "\n",
              "  <div id=\"df-ce5b26b0-9bdd-4e5d-a750-6629931fd50d\">\n",
              "    <div class=\"colab-df-container\">\n",
              "      <div>\n",
              "<style scoped>\n",
              "    .dataframe tbody tr th:only-of-type {\n",
              "        vertical-align: middle;\n",
              "    }\n",
              "\n",
              "    .dataframe tbody tr th {\n",
              "        vertical-align: top;\n",
              "    }\n",
              "\n",
              "    .dataframe thead th {\n",
              "        text-align: right;\n",
              "    }\n",
              "</style>\n",
              "<table border=\"1\" class=\"dataframe\">\n",
              "  <thead>\n",
              "    <tr style=\"text-align: right;\">\n",
              "      <th></th>\n",
              "      <th>country</th>\n",
              "      <th>year</th>\n",
              "      <th>location_type</th>\n",
              "      <th>cellphone_access</th>\n",
              "      <th>household_size</th>\n",
              "      <th>age_of_respondent</th>\n",
              "      <th>gender_of_respondent</th>\n",
              "      <th>relationship_with_head</th>\n",
              "      <th>marital_status</th>\n",
              "      <th>education_level</th>\n",
              "      <th>job_type</th>\n",
              "      <th>age_bins</th>\n",
              "    </tr>\n",
              "  </thead>\n",
              "  <tbody>\n",
              "    <tr>\n",
              "      <th>0</th>\n",
              "      <td>2</td>\n",
              "      <td>2018</td>\n",
              "      <td>2</td>\n",
              "      <td>1</td>\n",
              "      <td>3</td>\n",
              "      <td>24</td>\n",
              "      <td>2</td>\n",
              "      <td>2</td>\n",
              "      <td>1</td>\n",
              "      <td>2</td>\n",
              "      <td>1</td>\n",
              "      <td>1</td>\n",
              "    </tr>\n",
              "    <tr>\n",
              "      <th>1</th>\n",
              "      <td>2</td>\n",
              "      <td>2018</td>\n",
              "      <td>2</td>\n",
              "      <td>2</td>\n",
              "      <td>5</td>\n",
              "      <td>70</td>\n",
              "      <td>2</td>\n",
              "      <td>1</td>\n",
              "      <td>4</td>\n",
              "      <td>4</td>\n",
              "      <td>9</td>\n",
              "      <td>2</td>\n",
              "    </tr>\n",
              "    <tr>\n",
              "      <th>2</th>\n",
              "      <td>2</td>\n",
              "      <td>2018</td>\n",
              "      <td>1</td>\n",
              "      <td>1</td>\n",
              "      <td>5</td>\n",
              "      <td>26</td>\n",
              "      <td>1</td>\n",
              "      <td>4</td>\n",
              "      <td>2</td>\n",
              "      <td>5</td>\n",
              "      <td>1</td>\n",
              "      <td>1</td>\n",
              "    </tr>\n",
              "    <tr>\n",
              "      <th>3</th>\n",
              "      <td>2</td>\n",
              "      <td>2018</td>\n",
              "      <td>2</td>\n",
              "      <td>1</td>\n",
              "      <td>5</td>\n",
              "      <td>34</td>\n",
              "      <td>2</td>\n",
              "      <td>1</td>\n",
              "      <td>1</td>\n",
              "      <td>3</td>\n",
              "      <td>3</td>\n",
              "      <td>1</td>\n",
              "    </tr>\n",
              "    <tr>\n",
              "      <th>4</th>\n",
              "      <td>2</td>\n",
              "      <td>2018</td>\n",
              "      <td>1</td>\n",
              "      <td>2</td>\n",
              "      <td>8</td>\n",
              "      <td>26</td>\n",
              "      <td>1</td>\n",
              "      <td>3</td>\n",
              "      <td>2</td>\n",
              "      <td>3</td>\n",
              "      <td>5</td>\n",
              "      <td>1</td>\n",
              "    </tr>\n",
              "  </tbody>\n",
              "</table>\n",
              "</div>\n",
              "      <button class=\"colab-df-convert\" onclick=\"convertToInteractive('df-ce5b26b0-9bdd-4e5d-a750-6629931fd50d')\"\n",
              "              title=\"Convert this dataframe to an interactive table.\"\n",
              "              style=\"display:none;\">\n",
              "        \n",
              "  <svg xmlns=\"http://www.w3.org/2000/svg\" height=\"24px\"viewBox=\"0 0 24 24\"\n",
              "       width=\"24px\">\n",
              "    <path d=\"M0 0h24v24H0V0z\" fill=\"none\"/>\n",
              "    <path d=\"M18.56 5.44l.94 2.06.94-2.06 2.06-.94-2.06-.94-.94-2.06-.94 2.06-2.06.94zm-11 1L8.5 8.5l.94-2.06 2.06-.94-2.06-.94L8.5 2.5l-.94 2.06-2.06.94zm10 10l.94 2.06.94-2.06 2.06-.94-2.06-.94-.94-2.06-.94 2.06-2.06.94z\"/><path d=\"M17.41 7.96l-1.37-1.37c-.4-.4-.92-.59-1.43-.59-.52 0-1.04.2-1.43.59L10.3 9.45l-7.72 7.72c-.78.78-.78 2.05 0 2.83L4 21.41c.39.39.9.59 1.41.59.51 0 1.02-.2 1.41-.59l7.78-7.78 2.81-2.81c.8-.78.8-2.07 0-2.86zM5.41 20L4 18.59l7.72-7.72 1.47 1.35L5.41 20z\"/>\n",
              "  </svg>\n",
              "      </button>\n",
              "      \n",
              "  <style>\n",
              "    .colab-df-container {\n",
              "      display:flex;\n",
              "      flex-wrap:wrap;\n",
              "      gap: 12px;\n",
              "    }\n",
              "\n",
              "    .colab-df-convert {\n",
              "      background-color: #E8F0FE;\n",
              "      border: none;\n",
              "      border-radius: 50%;\n",
              "      cursor: pointer;\n",
              "      display: none;\n",
              "      fill: #1967D2;\n",
              "      height: 32px;\n",
              "      padding: 0 0 0 0;\n",
              "      width: 32px;\n",
              "    }\n",
              "\n",
              "    .colab-df-convert:hover {\n",
              "      background-color: #E2EBFA;\n",
              "      box-shadow: 0px 1px 2px rgba(60, 64, 67, 0.3), 0px 1px 3px 1px rgba(60, 64, 67, 0.15);\n",
              "      fill: #174EA6;\n",
              "    }\n",
              "\n",
              "    [theme=dark] .colab-df-convert {\n",
              "      background-color: #3B4455;\n",
              "      fill: #D2E3FC;\n",
              "    }\n",
              "\n",
              "    [theme=dark] .colab-df-convert:hover {\n",
              "      background-color: #434B5C;\n",
              "      box-shadow: 0px 1px 3px 1px rgba(0, 0, 0, 0.15);\n",
              "      filter: drop-shadow(0px 1px 2px rgba(0, 0, 0, 0.3));\n",
              "      fill: #FFFFFF;\n",
              "    }\n",
              "  </style>\n",
              "\n",
              "      <script>\n",
              "        const buttonEl =\n",
              "          document.querySelector('#df-ce5b26b0-9bdd-4e5d-a750-6629931fd50d button.colab-df-convert');\n",
              "        buttonEl.style.display =\n",
              "          google.colab.kernel.accessAllowed ? 'block' : 'none';\n",
              "\n",
              "        async function convertToInteractive(key) {\n",
              "          const element = document.querySelector('#df-ce5b26b0-9bdd-4e5d-a750-6629931fd50d');\n",
              "          const dataTable =\n",
              "            await google.colab.kernel.invokeFunction('convertToInteractive',\n",
              "                                                     [key], {});\n",
              "          if (!dataTable) return;\n",
              "\n",
              "          const docLinkHtml = 'Like what you see? Visit the ' +\n",
              "            '<a target=\"_blank\" href=https://colab.research.google.com/notebooks/data_table.ipynb>data table notebook</a>'\n",
              "            + ' to learn more about interactive tables.';\n",
              "          element.innerHTML = '';\n",
              "          dataTable['output_type'] = 'display_data';\n",
              "          await google.colab.output.renderOutput(dataTable, element);\n",
              "          const docLink = document.createElement('div');\n",
              "          docLink.innerHTML = docLinkHtml;\n",
              "          element.appendChild(docLink);\n",
              "        }\n",
              "      </script>\n",
              "    </div>\n",
              "  </div>\n",
              "  "
            ]
          },
          "metadata": {},
          "execution_count": 61
        }
      ]
    },
    {
      "cell_type": "code",
      "source": [
        "class func() :   \n",
        "    def __init__(self, train, label, test, model, model_type, random_state):\n",
        "        self.train, self.label, self.test = train, label, test\n",
        "        self.model, self.model_type = model, model_type\n",
        "        self.random_state = random_state\n",
        "        \n",
        "        assert self.model_type in ('catboost', 'xgboost', 'lgbm'), 'Incorrect model_type'\n",
        "    def __call__(self, plot = True):\n",
        "        return self.fit(plot)\n",
        "\n",
        "    def fit(self, plot):\n",
        "        def catboost_fit(X_train, X_test, y_train, y_test):\n",
        "            self.model.fit(X_train,y_train,eval_set=[(X_test,y_test)],early_stopping_rounds=500,\n",
        "                           verbose=50,use_best_model=True)\n",
        "            x_test_predict = self.model.predict_proba(X_test)[:,1]\n",
        "            x_train_predict = self.model.predict_proba(X_train)[:,1]\n",
        "            self.val_p[test_index] = x_test_predict\n",
        "            self.test_p += self.model.predict_proba(self.test)[:,1]\n",
        "            return x_test_predict, x_train_predict\n",
        "\n",
        "        def xgboost_fit(X_train, X_test, y_train, y_test):\n",
        "            self.model.fit(X_train, y_train, early_stopping_rounds = 30, eval_metric=\"auc\",\n",
        "                           eval_set=[(X_test, y_test)], verbose = True)\n",
        "            x_test_predict = self.model.predict_proba(X_test, ntree_limit = self.model.get_booster().best_ntree_limit)[:,1]\n",
        "            x_train_predict = self.model.predict_proba(X_train, ntree_limit = self.model.get_booster().best_ntree_limit)[:,1]\n",
        "            self.val_p[test_index] = x_test_predict\n",
        "            self.test_p += self.model.predict_proba(self.test, ntree_limit = self.model.get_booster().best_ntree_limit)[:,1]\n",
        "            return x_test_predict, x_train_predict\n",
        "\n",
        "        def lgbm_fit(X_train, X_test, y_train, y_test):\n",
        "            self.model.fit(X_train, y_train, early_stopping_rounds = 30, eval_metric=\"auc\",\n",
        "                           eval_set=[(X_test, y_test)], verbose = True)\n",
        "            x_test_predict = self.model.predict_proba(X_test, num_iteration = self.model.best_iteration_)[:,1]\n",
        "            x_train_predict = self.model.predict_proba(X_train, num_iteration = self.model.best_iteration_)[:,1]\n",
        "            self.val_p[test_index] = x_test_predict\n",
        "            self.test_p += self.model.predict_proba(self.test, num_iteration = self.model.best_iteration_)[:,1]\n",
        "            return x_test_predict, x_train_predict\n",
        "\n",
        "\n",
        "        self.val_p = np.zeros(self.train.shape[0])\n",
        "        mean_val = []\n",
        "        mean_train = []\n",
        "        self.test_p = np.zeros(self.test.shape[0])\n",
        "        splits = 5\n",
        "        kf = StratifiedKFold(n_splits = splits)\n",
        "        for fold_count, (train_index, test_index) in enumerate(kf.split(self.train, self.label)):\n",
        "            X_train,X_test = self.train.iloc[train_index],self.train.iloc[test_index]\n",
        "            y_train,y_test = self.label.iloc[train_index],self.label.iloc[test_index]\n",
        "\n",
        "            print(f\"================================Fold{fold_count+1}====================================\")\n",
        "            if self.model_type == 'catboost': x_test_predict, x_train_predict = catboost_fit(X_train, X_test, y_train, y_test)\n",
        "            elif self.model_type == 'xgboost': x_test_predict, x_train_predict = xgboost_fit(X_train, X_test, y_train, y_test)\n",
        "            elif self.model_type == 'lgbm': x_test_predict, x_train_predict = lgbm_fit(X_train, X_test, y_train, y_test)\n",
        "\n",
        "            print('\\nValidation scores', roc_auc_score(y_test, x_test_predict), log_loss(y_test, x_test_predict))\n",
        "            print('Training scores', roc_auc_score(y_train, x_train_predict), log_loss(y_train, x_train_predict))\n",
        "            mean_val.append(roc_auc_score(y_test, x_test_predict))\n",
        "            mean_train.append(roc_auc_score(y_train, x_train_predict))\n",
        "\n",
        "        if plot:\n",
        "            feat_imp = pd.DataFrame(sorted(zip(self.model.feature_importances_,self.train.columns)), columns=['Value','Feature'])\n",
        "            plt.figure(figsize=(30,25))\n",
        "            sns.barplot(x=\"Value\", y=\"Feature\", data=feat_imp.sort_values(by=\"Value\", ascending=False))\n",
        "            plt.ylabel('Feature Importance Score')\n",
        "            plt.show()\n",
        "        print(np.mean(mean_val), np.mean(mean_train), np.std(mean_val))\n",
        "        return self.val_p, self.test_p/splits, self.model"
      ],
      "metadata": {
        "id": "2EiMUXXCAnEM"
      },
      "id": "2EiMUXXCAnEM",
      "execution_count": 62,
      "outputs": []
    },
    {
      "cell_type": "code",
      "source": [
        "!pip install catboost"
      ],
      "metadata": {
        "colab": {
          "base_uri": "https://localhost:8080/"
        },
        "id": "w5U6l-oAB8f-",
        "outputId": "260cf487-f7bb-4b23-def2-4f9b045c1d41"
      },
      "id": "w5U6l-oAB8f-",
      "execution_count": 63,
      "outputs": [
        {
          "output_type": "stream",
          "name": "stdout",
          "text": [
            "Looking in indexes: https://pypi.org/simple, https://us-python.pkg.dev/colab-wheels/public/simple/\n",
            "Collecting catboost\n",
            "  Downloading catboost-1.0.6-cp37-none-manylinux1_x86_64.whl (76.6 MB)\n",
            "\u001b[K     |████████████████████████████████| 76.6 MB 1.2 MB/s \n",
            "\u001b[?25hRequirement already satisfied: graphviz in /usr/local/lib/python3.7/dist-packages (from catboost) (0.10.1)\n",
            "Requirement already satisfied: numpy>=1.16.0 in /usr/local/lib/python3.7/dist-packages (from catboost) (1.21.6)\n",
            "Requirement already satisfied: scipy in /usr/local/lib/python3.7/dist-packages (from catboost) (1.4.1)\n",
            "Requirement already satisfied: pandas>=0.24.0 in /usr/local/lib/python3.7/dist-packages (from catboost) (1.3.5)\n",
            "Requirement already satisfied: matplotlib in /usr/local/lib/python3.7/dist-packages (from catboost) (3.2.2)\n",
            "Requirement already satisfied: six in /usr/local/lib/python3.7/dist-packages (from catboost) (1.15.0)\n",
            "Requirement already satisfied: plotly in /usr/local/lib/python3.7/dist-packages (from catboost) (5.5.0)\n",
            "Requirement already satisfied: pytz>=2017.3 in /usr/local/lib/python3.7/dist-packages (from pandas>=0.24.0->catboost) (2022.1)\n",
            "Requirement already satisfied: python-dateutil>=2.7.3 in /usr/local/lib/python3.7/dist-packages (from pandas>=0.24.0->catboost) (2.8.2)\n",
            "Requirement already satisfied: cycler>=0.10 in /usr/local/lib/python3.7/dist-packages (from matplotlib->catboost) (0.11.0)\n",
            "Requirement already satisfied: pyparsing!=2.0.4,!=2.1.2,!=2.1.6,>=2.0.1 in /usr/local/lib/python3.7/dist-packages (from matplotlib->catboost) (3.0.9)\n",
            "Requirement already satisfied: kiwisolver>=1.0.1 in /usr/local/lib/python3.7/dist-packages (from matplotlib->catboost) (1.4.2)\n",
            "Requirement already satisfied: typing-extensions in /usr/local/lib/python3.7/dist-packages (from kiwisolver>=1.0.1->matplotlib->catboost) (4.2.0)\n",
            "Requirement already satisfied: tenacity>=6.2.0 in /usr/local/lib/python3.7/dist-packages (from plotly->catboost) (8.0.1)\n",
            "Installing collected packages: catboost\n",
            "Successfully installed catboost-1.0.6\n"
          ]
        }
      ]
    },
    {
      "cell_type": "code",
      "source": [
        "from catboost import CatBoostClassifier\n",
        "# build the lightgbm model\n",
        "import lightgbm as lgb\n",
        "import xgboost as xgb"
      ],
      "metadata": {
        "id": "WQYXuUQ2AxYQ"
      },
      "id": "WQYXuUQ2AxYQ",
      "execution_count": 64,
      "outputs": []
    },
    {
      "cell_type": "code",
      "source": [
        "from  sklearn.model_selection import StratifiedKFold\n",
        "from sklearn.metrics import roc_auc_score,log_loss"
      ],
      "metadata": {
        "id": "_wIosA40EXQ1"
      },
      "id": "_wIosA40EXQ1",
      "execution_count": 65,
      "outputs": []
    },
    {
      "cell_type": "code",
      "source": [
        "lgb_model = lgb.LGBMClassifier(objective =  'binary', \n",
        "                            metric= 'auc',\n",
        "                            boosting_type= 'gbdt')\n",
        "\n",
        "func_= func(train, target, test, lgb_model, 'lgbm', 1000)\n",
        "val_p3, test_p3, model3 = func_()"
      ],
      "metadata": {
        "colab": {
          "base_uri": "https://localhost:8080/",
          "height": 1000
        },
        "id": "5BvbXIboB64v",
        "outputId": "67cae6b7-2945-4617-8ced-391a4e091368"
      },
      "id": "5BvbXIboB64v",
      "execution_count": 66,
      "outputs": [
        {
          "output_type": "stream",
          "name": "stdout",
          "text": [
            "================================Fold1====================================\n",
            "[1]\tvalid_0's auc: 0.76384\n",
            "Training until validation scores don't improve for 30 rounds.\n",
            "[2]\tvalid_0's auc: 0.782094\n",
            "[3]\tvalid_0's auc: 0.786096\n",
            "[4]\tvalid_0's auc: 0.788849\n",
            "[5]\tvalid_0's auc: 0.787911\n",
            "[6]\tvalid_0's auc: 0.784447\n",
            "[7]\tvalid_0's auc: 0.782675\n",
            "[8]\tvalid_0's auc: 0.78626\n",
            "[9]\tvalid_0's auc: 0.787933\n",
            "[10]\tvalid_0's auc: 0.791186\n",
            "[11]\tvalid_0's auc: 0.791147\n",
            "[12]\tvalid_0's auc: 0.791514\n",
            "[13]\tvalid_0's auc: 0.791967\n",
            "[14]\tvalid_0's auc: 0.791879\n",
            "[15]\tvalid_0's auc: 0.795563\n",
            "[16]\tvalid_0's auc: 0.799095\n",
            "[17]\tvalid_0's auc: 0.799956\n",
            "[18]\tvalid_0's auc: 0.802397\n",
            "[19]\tvalid_0's auc: 0.803335\n",
            "[20]\tvalid_0's auc: 0.802559\n",
            "[21]\tvalid_0's auc: 0.80313\n",
            "[22]\tvalid_0's auc: 0.805166\n",
            "[23]\tvalid_0's auc: 0.804324\n",
            "[24]\tvalid_0's auc: 0.807789\n",
            "[25]\tvalid_0's auc: 0.809965\n",
            "[26]\tvalid_0's auc: 0.809643\n",
            "[27]\tvalid_0's auc: 0.809771\n",
            "[28]\tvalid_0's auc: 0.810852\n",
            "[29]\tvalid_0's auc: 0.811229\n",
            "[30]\tvalid_0's auc: 0.811548\n",
            "[31]\tvalid_0's auc: 0.812035\n",
            "[32]\tvalid_0's auc: 0.812253\n",
            "[33]\tvalid_0's auc: 0.812472\n",
            "[34]\tvalid_0's auc: 0.812286\n",
            "[35]\tvalid_0's auc: 0.813927\n",
            "[36]\tvalid_0's auc: 0.81425\n",
            "[37]\tvalid_0's auc: 0.814105\n",
            "[38]\tvalid_0's auc: 0.814086\n",
            "[39]\tvalid_0's auc: 0.814194\n",
            "[40]\tvalid_0's auc: 0.813939\n",
            "[41]\tvalid_0's auc: 0.81418\n",
            "[42]\tvalid_0's auc: 0.814028\n",
            "[43]\tvalid_0's auc: 0.814097\n",
            "[44]\tvalid_0's auc: 0.814175\n",
            "[45]\tvalid_0's auc: 0.814097\n",
            "[46]\tvalid_0's auc: 0.814427\n",
            "[47]\tvalid_0's auc: 0.814539\n",
            "[48]\tvalid_0's auc: 0.814996\n",
            "[49]\tvalid_0's auc: 0.815135\n",
            "[50]\tvalid_0's auc: 0.814772\n",
            "[51]\tvalid_0's auc: 0.814163\n",
            "[52]\tvalid_0's auc: 0.814019\n",
            "[53]\tvalid_0's auc: 0.814089\n",
            "[54]\tvalid_0's auc: 0.814212\n",
            "[55]\tvalid_0's auc: 0.814228\n",
            "[56]\tvalid_0's auc: 0.814061\n",
            "[57]\tvalid_0's auc: 0.813453\n",
            "[58]\tvalid_0's auc: 0.813514\n",
            "[59]\tvalid_0's auc: 0.813283\n",
            "[60]\tvalid_0's auc: 0.813293\n",
            "[61]\tvalid_0's auc: 0.81288\n",
            "[62]\tvalid_0's auc: 0.812789\n",
            "[63]\tvalid_0's auc: 0.812607\n",
            "[64]\tvalid_0's auc: 0.812841\n",
            "[65]\tvalid_0's auc: 0.812163\n",
            "[66]\tvalid_0's auc: 0.812179\n",
            "[67]\tvalid_0's auc: 0.811957\n",
            "[68]\tvalid_0's auc: 0.811688\n",
            "[69]\tvalid_0's auc: 0.811761\n",
            "[70]\tvalid_0's auc: 0.811806\n",
            "[71]\tvalid_0's auc: 0.811787\n",
            "[72]\tvalid_0's auc: 0.811946\n",
            "[73]\tvalid_0's auc: 0.811925\n",
            "[74]\tvalid_0's auc: 0.811928\n",
            "[75]\tvalid_0's auc: 0.812071\n",
            "[76]\tvalid_0's auc: 0.812026\n",
            "[77]\tvalid_0's auc: 0.811779\n",
            "[78]\tvalid_0's auc: 0.811545\n",
            "[79]\tvalid_0's auc: 0.81145\n",
            "Early stopping, best iteration is:\n",
            "[49]\tvalid_0's auc: 0.815135\n",
            "\n",
            "Validation scores 0.8151352726985058 0.6315350917516528\n",
            "Training scores 0.9150700851396532 0.23096532963103295\n",
            "================================Fold2====================================\n",
            "[1]\tvalid_0's auc: 0.748519\n",
            "Training until validation scores don't improve for 30 rounds.\n",
            "[2]\tvalid_0's auc: 0.759023\n",
            "[3]\tvalid_0's auc: 0.759003\n",
            "[4]\tvalid_0's auc: 0.763641\n",
            "[5]\tvalid_0's auc: 0.765177\n",
            "[6]\tvalid_0's auc: 0.774896\n",
            "[7]\tvalid_0's auc: 0.784435\n",
            "[8]\tvalid_0's auc: 0.785162\n",
            "[9]\tvalid_0's auc: 0.78895\n",
            "[10]\tvalid_0's auc: 0.789107\n",
            "[11]\tvalid_0's auc: 0.791937\n",
            "[12]\tvalid_0's auc: 0.797415\n",
            "[13]\tvalid_0's auc: 0.798715\n",
            "[14]\tvalid_0's auc: 0.800305\n",
            "[15]\tvalid_0's auc: 0.799933\n",
            "[16]\tvalid_0's auc: 0.79962\n",
            "[17]\tvalid_0's auc: 0.799705\n",
            "[18]\tvalid_0's auc: 0.800144\n",
            "[19]\tvalid_0's auc: 0.800813\n",
            "[20]\tvalid_0's auc: 0.801216\n",
            "[21]\tvalid_0's auc: 0.800977\n",
            "[22]\tvalid_0's auc: 0.801135\n",
            "[23]\tvalid_0's auc: 0.801582\n",
            "[24]\tvalid_0's auc: 0.802792\n",
            "[25]\tvalid_0's auc: 0.80311\n",
            "[26]\tvalid_0's auc: 0.803411\n",
            "[27]\tvalid_0's auc: 0.804026\n",
            "[28]\tvalid_0's auc: 0.803864\n",
            "[29]\tvalid_0's auc: 0.803609\n",
            "[30]\tvalid_0's auc: 0.804051\n",
            "[31]\tvalid_0's auc: 0.805075\n",
            "[32]\tvalid_0's auc: 0.804882\n",
            "[33]\tvalid_0's auc: 0.805212\n",
            "[34]\tvalid_0's auc: 0.8061\n",
            "[35]\tvalid_0's auc: 0.80653\n",
            "[36]\tvalid_0's auc: 0.805665\n",
            "[37]\tvalid_0's auc: 0.805441\n",
            "[38]\tvalid_0's auc: 0.805204\n",
            "[39]\tvalid_0's auc: 0.80531\n",
            "[40]\tvalid_0's auc: 0.804866\n",
            "[41]\tvalid_0's auc: 0.804942\n",
            "[42]\tvalid_0's auc: 0.805504\n",
            "[43]\tvalid_0's auc: 0.805509\n",
            "[44]\tvalid_0's auc: 0.805811\n",
            "[45]\tvalid_0's auc: 0.806402\n",
            "[46]\tvalid_0's auc: 0.80684\n",
            "[47]\tvalid_0's auc: 0.806785\n",
            "[48]\tvalid_0's auc: 0.80605\n",
            "[49]\tvalid_0's auc: 0.806109\n",
            "[50]\tvalid_0's auc: 0.80564\n",
            "[51]\tvalid_0's auc: 0.805941\n",
            "[52]\tvalid_0's auc: 0.805109\n",
            "[53]\tvalid_0's auc: 0.804555\n",
            "[54]\tvalid_0's auc: 0.80477\n",
            "[55]\tvalid_0's auc: 0.805348\n",
            "[56]\tvalid_0's auc: 0.805594\n",
            "[57]\tvalid_0's auc: 0.805063\n",
            "[58]\tvalid_0's auc: 0.804966\n",
            "[59]\tvalid_0's auc: 0.804438\n",
            "[60]\tvalid_0's auc: 0.804317\n",
            "[61]\tvalid_0's auc: 0.804334\n",
            "[62]\tvalid_0's auc: 0.804974\n",
            "[63]\tvalid_0's auc: 0.804732\n",
            "[64]\tvalid_0's auc: 0.804459\n",
            "[65]\tvalid_0's auc: 0.804464\n",
            "[66]\tvalid_0's auc: 0.80458\n",
            "[67]\tvalid_0's auc: 0.804217\n",
            "[68]\tvalid_0's auc: 0.804473\n",
            "[69]\tvalid_0's auc: 0.804131\n",
            "[70]\tvalid_0's auc: 0.80427\n",
            "[71]\tvalid_0's auc: 0.805012\n",
            "[72]\tvalid_0's auc: 0.804273\n",
            "[73]\tvalid_0's auc: 0.804148\n",
            "[74]\tvalid_0's auc: 0.803841\n",
            "[75]\tvalid_0's auc: 0.803766\n",
            "[76]\tvalid_0's auc: 0.804254\n",
            "Early stopping, best iteration is:\n",
            "[46]\tvalid_0's auc: 0.80684\n",
            "\n",
            "Validation scores 0.8068398333337065 0.3285307181556873\n",
            "Training scores 0.892165396307121 0.25976315048199833\n",
            "================================Fold3====================================\n",
            "[1]\tvalid_0's auc: 0.783551\n",
            "Training until validation scores don't improve for 30 rounds.\n",
            "[2]\tvalid_0's auc: 0.803837\n",
            "[3]\tvalid_0's auc: 0.813481\n",
            "[4]\tvalid_0's auc: 0.814871\n",
            "[5]\tvalid_0's auc: 0.815954\n",
            "[6]\tvalid_0's auc: 0.81923\n",
            "[7]\tvalid_0's auc: 0.820858\n",
            "[8]\tvalid_0's auc: 0.829433\n",
            "[9]\tvalid_0's auc: 0.829213\n",
            "[10]\tvalid_0's auc: 0.831032\n",
            "[11]\tvalid_0's auc: 0.835231\n",
            "[12]\tvalid_0's auc: 0.836455\n",
            "[13]\tvalid_0's auc: 0.839206\n",
            "[14]\tvalid_0's auc: 0.840848\n",
            "[15]\tvalid_0's auc: 0.841867\n",
            "[16]\tvalid_0's auc: 0.842507\n",
            "[17]\tvalid_0's auc: 0.842703\n",
            "[18]\tvalid_0's auc: 0.84259\n",
            "[19]\tvalid_0's auc: 0.842946\n",
            "[20]\tvalid_0's auc: 0.842969\n",
            "[21]\tvalid_0's auc: 0.843103\n",
            "[22]\tvalid_0's auc: 0.843828\n",
            "[23]\tvalid_0's auc: 0.843346\n",
            "[24]\tvalid_0's auc: 0.842976\n",
            "[25]\tvalid_0's auc: 0.843336\n",
            "[26]\tvalid_0's auc: 0.843419\n",
            "[27]\tvalid_0's auc: 0.842688\n",
            "[28]\tvalid_0's auc: 0.842784\n",
            "[29]\tvalid_0's auc: 0.8433\n",
            "[30]\tvalid_0's auc: 0.842851\n",
            "[31]\tvalid_0's auc: 0.842718\n",
            "[32]\tvalid_0's auc: 0.842214\n",
            "[33]\tvalid_0's auc: 0.841712\n",
            "[34]\tvalid_0's auc: 0.842382\n",
            "[35]\tvalid_0's auc: 0.841979\n",
            "[36]\tvalid_0's auc: 0.842962\n",
            "[37]\tvalid_0's auc: 0.842651\n",
            "[38]\tvalid_0's auc: 0.843291\n",
            "[39]\tvalid_0's auc: 0.842837\n",
            "[40]\tvalid_0's auc: 0.842548\n",
            "[41]\tvalid_0's auc: 0.842425\n",
            "[42]\tvalid_0's auc: 0.842334\n",
            "[43]\tvalid_0's auc: 0.842611\n",
            "[44]\tvalid_0's auc: 0.842373\n",
            "[45]\tvalid_0's auc: 0.842221\n",
            "[46]\tvalid_0's auc: 0.841928\n",
            "[47]\tvalid_0's auc: 0.841801\n",
            "[48]\tvalid_0's auc: 0.841735\n",
            "[49]\tvalid_0's auc: 0.841885\n",
            "[50]\tvalid_0's auc: 0.84173\n",
            "[51]\tvalid_0's auc: 0.841654\n",
            "[52]\tvalid_0's auc: 0.841647\n",
            "Early stopping, best iteration is:\n",
            "[22]\tvalid_0's auc: 0.843828\n",
            "\n",
            "Validation scores 0.8438276443638738 0.29937290512491355\n",
            "Training scores 0.8816509113059349 0.2742227274258895\n",
            "================================Fold4====================================\n",
            "[1]\tvalid_0's auc: 0.656582\n",
            "Training until validation scores don't improve for 30 rounds.\n",
            "[2]\tvalid_0's auc: 0.652242\n",
            "[3]\tvalid_0's auc: 0.638717\n",
            "[4]\tvalid_0's auc: 0.648112\n",
            "[5]\tvalid_0's auc: 0.652586\n",
            "[6]\tvalid_0's auc: 0.655866\n",
            "[7]\tvalid_0's auc: 0.660908\n",
            "[8]\tvalid_0's auc: 0.664515\n",
            "[9]\tvalid_0's auc: 0.666279\n",
            "[10]\tvalid_0's auc: 0.670347\n",
            "[11]\tvalid_0's auc: 0.675\n",
            "[12]\tvalid_0's auc: 0.677536\n",
            "[13]\tvalid_0's auc: 0.683259\n",
            "[14]\tvalid_0's auc: 0.687193\n",
            "[15]\tvalid_0's auc: 0.687722\n",
            "[16]\tvalid_0's auc: 0.68969\n",
            "[17]\tvalid_0's auc: 0.692118\n",
            "[18]\tvalid_0's auc: 0.694864\n",
            "[19]\tvalid_0's auc: 0.696276\n",
            "[20]\tvalid_0's auc: 0.69991\n",
            "[21]\tvalid_0's auc: 0.700108\n",
            "[22]\tvalid_0's auc: 0.703094\n",
            "[23]\tvalid_0's auc: 0.704482\n",
            "[24]\tvalid_0's auc: 0.708762\n",
            "[25]\tvalid_0's auc: 0.709717\n",
            "[26]\tvalid_0's auc: 0.711608\n",
            "[27]\tvalid_0's auc: 0.713029\n",
            "[28]\tvalid_0's auc: 0.714902\n",
            "[29]\tvalid_0's auc: 0.717489\n",
            "[30]\tvalid_0's auc: 0.717902\n",
            "[31]\tvalid_0's auc: 0.71962\n",
            "[32]\tvalid_0's auc: 0.721202\n",
            "[33]\tvalid_0's auc: 0.721548\n",
            "[34]\tvalid_0's auc: 0.722349\n",
            "[35]\tvalid_0's auc: 0.723816\n",
            "[36]\tvalid_0's auc: 0.724826\n",
            "[37]\tvalid_0's auc: 0.726687\n",
            "[38]\tvalid_0's auc: 0.727169\n",
            "[39]\tvalid_0's auc: 0.729757\n",
            "[40]\tvalid_0's auc: 0.73047\n",
            "[41]\tvalid_0's auc: 0.730261\n",
            "[42]\tvalid_0's auc: 0.729662\n",
            "[43]\tvalid_0's auc: 0.730399\n",
            "[44]\tvalid_0's auc: 0.731335\n",
            "[45]\tvalid_0's auc: 0.731784\n",
            "[46]\tvalid_0's auc: 0.731371\n",
            "[47]\tvalid_0's auc: 0.731722\n",
            "[48]\tvalid_0's auc: 0.73122\n",
            "[49]\tvalid_0's auc: 0.731651\n",
            "[50]\tvalid_0's auc: 0.73212\n",
            "[51]\tvalid_0's auc: 0.732064\n",
            "[52]\tvalid_0's auc: 0.731784\n",
            "[53]\tvalid_0's auc: 0.732668\n",
            "[54]\tvalid_0's auc: 0.732999\n",
            "[55]\tvalid_0's auc: 0.733211\n",
            "[56]\tvalid_0's auc: 0.733018\n",
            "[57]\tvalid_0's auc: 0.733311\n",
            "[58]\tvalid_0's auc: 0.733321\n",
            "[59]\tvalid_0's auc: 0.734522\n",
            "[60]\tvalid_0's auc: 0.734463\n",
            "[61]\tvalid_0's auc: 0.734905\n",
            "[62]\tvalid_0's auc: 0.734942\n",
            "[63]\tvalid_0's auc: 0.736624\n",
            "[64]\tvalid_0's auc: 0.736846\n",
            "[65]\tvalid_0's auc: 0.735915\n",
            "[66]\tvalid_0's auc: 0.736129\n",
            "[67]\tvalid_0's auc: 0.735471\n",
            "[68]\tvalid_0's auc: 0.735376\n",
            "[69]\tvalid_0's auc: 0.7355\n",
            "[70]\tvalid_0's auc: 0.735542\n",
            "[71]\tvalid_0's auc: 0.735276\n",
            "[72]\tvalid_0's auc: 0.735276\n",
            "[73]\tvalid_0's auc: 0.735276\n",
            "[74]\tvalid_0's auc: 0.735098\n",
            "[75]\tvalid_0's auc: 0.736238\n",
            "[76]\tvalid_0's auc: 0.736642\n",
            "[77]\tvalid_0's auc: 0.736252\n",
            "[78]\tvalid_0's auc: 0.735987\n",
            "[79]\tvalid_0's auc: 0.735803\n",
            "[80]\tvalid_0's auc: 0.735135\n",
            "[81]\tvalid_0's auc: 0.735103\n",
            "[82]\tvalid_0's auc: 0.735225\n",
            "[83]\tvalid_0's auc: 0.735591\n",
            "[84]\tvalid_0's auc: 0.735836\n",
            "[85]\tvalid_0's auc: 0.735352\n",
            "[86]\tvalid_0's auc: 0.73548\n",
            "[87]\tvalid_0's auc: 0.735504\n",
            "[88]\tvalid_0's auc: 0.735604\n",
            "[89]\tvalid_0's auc: 0.735371\n",
            "[90]\tvalid_0's auc: 0.735727\n",
            "[91]\tvalid_0's auc: 0.735727\n",
            "[92]\tvalid_0's auc: 0.736316\n",
            "[93]\tvalid_0's auc: 0.736677\n",
            "[94]\tvalid_0's auc: 0.736679\n",
            "Early stopping, best iteration is:\n",
            "[64]\tvalid_0's auc: 0.736846\n",
            "\n",
            "Validation scores 0.7368459005270382 0.3812039634825511\n",
            "Training scores 0.907490352491432 0.2443164920784009\n",
            "================================Fold5====================================\n",
            "[1]\tvalid_0's auc: 0.739574\n",
            "Training until validation scores don't improve for 30 rounds.\n",
            "[2]\tvalid_0's auc: 0.73231\n",
            "[3]\tvalid_0's auc: 0.737831\n",
            "[4]\tvalid_0's auc: 0.741187\n",
            "[5]\tvalid_0's auc: 0.738616\n",
            "[6]\tvalid_0's auc: 0.73802\n",
            "[7]\tvalid_0's auc: 0.738651\n",
            "[8]\tvalid_0's auc: 0.741568\n",
            "[9]\tvalid_0's auc: 0.741612\n",
            "[10]\tvalid_0's auc: 0.744172\n",
            "[11]\tvalid_0's auc: 0.7485\n",
            "[12]\tvalid_0's auc: 0.749433\n",
            "[13]\tvalid_0's auc: 0.758601\n",
            "[14]\tvalid_0's auc: 0.75846\n",
            "[15]\tvalid_0's auc: 0.757574\n",
            "[16]\tvalid_0's auc: 0.757242\n",
            "[17]\tvalid_0's auc: 0.755544\n",
            "[18]\tvalid_0's auc: 0.756109\n",
            "[19]\tvalid_0's auc: 0.756532\n",
            "[20]\tvalid_0's auc: 0.757242\n",
            "[21]\tvalid_0's auc: 0.758524\n",
            "[22]\tvalid_0's auc: 0.759121\n",
            "[23]\tvalid_0's auc: 0.763327\n",
            "[24]\tvalid_0's auc: 0.764681\n",
            "[25]\tvalid_0's auc: 0.764977\n",
            "[26]\tvalid_0's auc: 0.764326\n",
            "[27]\tvalid_0's auc: 0.76491\n",
            "[28]\tvalid_0's auc: 0.765598\n",
            "[29]\tvalid_0's auc: 0.766973\n",
            "[30]\tvalid_0's auc: 0.767095\n",
            "[31]\tvalid_0's auc: 0.768426\n",
            "[32]\tvalid_0's auc: 0.768277\n",
            "[33]\tvalid_0's auc: 0.769036\n",
            "[34]\tvalid_0's auc: 0.768953\n",
            "[35]\tvalid_0's auc: 0.768698\n",
            "[36]\tvalid_0's auc: 0.768459\n",
            "[37]\tvalid_0's auc: 0.769678\n",
            "[38]\tvalid_0's auc: 0.769721\n",
            "[39]\tvalid_0's auc: 0.769617\n",
            "[40]\tvalid_0's auc: 0.770139\n",
            "[41]\tvalid_0's auc: 0.770232\n",
            "[42]\tvalid_0's auc: 0.770314\n",
            "[43]\tvalid_0's auc: 0.770966\n",
            "[44]\tvalid_0's auc: 0.770255\n",
            "[45]\tvalid_0's auc: 0.770185\n",
            "[46]\tvalid_0's auc: 0.769923\n",
            "[47]\tvalid_0's auc: 0.770082\n",
            "[48]\tvalid_0's auc: 0.769854\n",
            "[49]\tvalid_0's auc: 0.770168\n",
            "[50]\tvalid_0's auc: 0.769797\n",
            "[51]\tvalid_0's auc: 0.76999\n",
            "[52]\tvalid_0's auc: 0.770332\n",
            "[53]\tvalid_0's auc: 0.770222\n",
            "[54]\tvalid_0's auc: 0.770095\n",
            "[55]\tvalid_0's auc: 0.769171\n",
            "[56]\tvalid_0's auc: 0.768917\n",
            "[57]\tvalid_0's auc: 0.768958\n",
            "[58]\tvalid_0's auc: 0.769281\n",
            "[59]\tvalid_0's auc: 0.768523\n",
            "[60]\tvalid_0's auc: 0.768387\n",
            "[61]\tvalid_0's auc: 0.768412\n",
            "[62]\tvalid_0's auc: 0.768759\n",
            "[63]\tvalid_0's auc: 0.768716\n",
            "[64]\tvalid_0's auc: 0.767897\n",
            "[65]\tvalid_0's auc: 0.767052\n",
            "[66]\tvalid_0's auc: 0.767715\n",
            "[67]\tvalid_0's auc: 0.76861\n",
            "[68]\tvalid_0's auc: 0.767578\n",
            "[69]\tvalid_0's auc: 0.767455\n",
            "[70]\tvalid_0's auc: 0.767887\n",
            "[71]\tvalid_0's auc: 0.767871\n",
            "[72]\tvalid_0's auc: 0.76761\n",
            "[73]\tvalid_0's auc: 0.767976\n",
            "Early stopping, best iteration is:\n",
            "[43]\tvalid_0's auc: 0.770966\n",
            "\n",
            "Validation scores 0.7709660348814786 0.3686256153586148\n",
            "Training scores 0.8935546142985497 0.26037299533088065\n"
          ]
        },
        {
          "output_type": "display_data",
          "data": {
            "text/plain": [
              "<Figure size 2160x1800 with 1 Axes>"
            ],
            "image/png": "[encoded data removed]"
          },
          "metadata": {
            "needs_background": "light"
          }
        },
        {
          "output_type": "stream",
          "name": "stdout",
          "text": [
            "0.7947229371609206 0.8979862719085382 0.03711845002120513\n"
          ]
        }
      ]
    },
    {
      "cell_type": "code",
      "source": [
        "\n",
        "catboost = CatBoostClassifier(n_estimators=10000, eval_metric='AUC')\n",
        "\n",
        "func_= func(train, target, test, catboost, 'catboost', 1000)\n",
        "val_p1, test_p1, model1 = func_()"
      ],
      "metadata": {
        "colab": {
          "base_uri": "https://localhost:8080/",
          "height": 1000
        },
        "id": "El3mvdfjCElI",
        "outputId": "7a2fae48-0961-4a00-d917-10a7b62849f4"
      },
      "id": "El3mvdfjCElI",
      "execution_count": 67,
      "outputs": [
        {
          "output_type": "stream",
          "name": "stdout",
          "text": [
            "================================Fold1====================================\n",
            "Learning rate set to 0.024029\n",
            "0:\ttest: 0.6947446\tbest: 0.6947446 (0)\ttotal: 52.2ms\tremaining: 8m 41s\n",
            "50:\ttest: 0.8189256\tbest: 0.8189256 (50)\ttotal: 318ms\tremaining: 1m 2s\n",
            "100:\ttest: 0.8266154\tbest: 0.8267408 (98)\ttotal: 602ms\tremaining: 59s\n",
            "150:\ttest: 0.8293372\tbest: 0.8295359 (148)\ttotal: 894ms\tremaining: 58.3s\n",
            "200:\ttest: 0.8301136\tbest: 0.8301136 (200)\ttotal: 1.18s\tremaining: 57.5s\n",
            "250:\ttest: 0.8296499\tbest: 0.8302486 (209)\ttotal: 1.45s\tremaining: 56.4s\n",
            "300:\ttest: 0.8298380\tbest: 0.8302486 (209)\ttotal: 1.73s\tremaining: 55.8s\n",
            "350:\ttest: 0.8303552\tbest: 0.8303552 (350)\ttotal: 2.01s\tremaining: 55.3s\n",
            "400:\ttest: 0.8299094\tbest: 0.8303552 (350)\ttotal: 2.29s\tremaining: 54.7s\n",
            "450:\ttest: 0.8294637\tbest: 0.8303552 (350)\ttotal: 2.56s\tremaining: 54.1s\n",
            "500:\ttest: 0.8292062\tbest: 0.8303552 (350)\ttotal: 2.84s\tremaining: 53.9s\n",
            "550:\ttest: 0.8283174\tbest: 0.8303552 (350)\ttotal: 3.12s\tremaining: 53.5s\n",
            "600:\ttest: 0.8276985\tbest: 0.8303552 (350)\ttotal: 3.4s\tremaining: 53.2s\n",
            "650:\ttest: 0.8269317\tbest: 0.8303552 (350)\ttotal: 3.68s\tremaining: 52.9s\n",
            "700:\ttest: 0.8262484\tbest: 0.8303552 (350)\ttotal: 3.97s\tremaining: 52.6s\n",
            "750:\ttest: 0.8254435\tbest: 0.8303552 (350)\ttotal: 4.27s\tremaining: 52.6s\n",
            "800:\ttest: 0.8249060\tbest: 0.8303552 (350)\ttotal: 4.54s\tremaining: 52.2s\n",
            "850:\ttest: 0.8242295\tbest: 0.8303552 (350)\ttotal: 4.84s\tremaining: 52s\n",
            "Stopped by overfitting detector  (500 iterations wait)\n",
            "\n",
            "bestTest = 0.8303551771\n",
            "bestIteration = 350\n",
            "\n",
            "Shrink model to first 351 iterations.\n",
            "\n",
            "Validation scores 0.8303551771258497 0.6306660024366022\n",
            "Training scores 0.9069415349790693 0.23594210916933192\n",
            "================================Fold2====================================\n",
            "Learning rate set to 0.024029\n",
            "0:\ttest: 0.7618665\tbest: 0.7618665 (0)\ttotal: 5.74ms\tremaining: 57.4s\n",
            "50:\ttest: 0.7938396\tbest: 0.8416726 (3)\ttotal: 275ms\tremaining: 53.6s\n",
            "100:\ttest: 0.8025265\tbest: 0.8416726 (3)\ttotal: 550ms\tremaining: 53.9s\n",
            "150:\ttest: 0.8053119\tbest: 0.8416726 (3)\ttotal: 839ms\tremaining: 54.8s\n",
            "200:\ttest: 0.8076436\tbest: 0.8416726 (3)\ttotal: 1.11s\tremaining: 54.3s\n",
            "250:\ttest: 0.8080811\tbest: 0.8416726 (3)\ttotal: 1.4s\tremaining: 54.3s\n",
            "300:\ttest: 0.8081817\tbest: 0.8416726 (3)\ttotal: 1.67s\tremaining: 53.8s\n",
            "350:\ttest: 0.8082511\tbest: 0.8416726 (3)\ttotal: 1.96s\tremaining: 54s\n",
            "400:\ttest: 0.8085556\tbest: 0.8416726 (3)\ttotal: 2.24s\tremaining: 53.6s\n",
            "450:\ttest: 0.8085998\tbest: 0.8416726 (3)\ttotal: 2.53s\tremaining: 53.6s\n",
            "500:\ttest: 0.8078970\tbest: 0.8416726 (3)\ttotal: 2.83s\tremaining: 53.6s\n",
            "Stopped by overfitting detector  (500 iterations wait)\n",
            "\n",
            "bestTest = 0.8416726185\n",
            "bestIteration = 3\n",
            "\n",
            "Shrink model to first 4 iterations.\n",
            "\n",
            "Validation scores 0.8416726185012124 0.6166196471316313\n",
            "Training scores 0.8266372790236243 0.608577979166352\n",
            "================================Fold3====================================\n",
            "Learning rate set to 0.024029\n",
            "0:\ttest: 0.7613071\tbest: 0.7613071 (0)\ttotal: 5.66ms\tremaining: 56.5s\n",
            "50:\ttest: 0.8424475\tbest: 0.8426817 (48)\ttotal: 279ms\tremaining: 54.4s\n",
            "100:\ttest: 0.8467035\tbest: 0.8469932 (96)\ttotal: 556ms\tremaining: 54.5s\n",
            "150:\ttest: 0.8495550\tbest: 0.8495845 (149)\ttotal: 844ms\tremaining: 55.1s\n",
            "200:\ttest: 0.8509215\tbest: 0.8509215 (200)\ttotal: 1.12s\tremaining: 54.4s\n",
            "250:\ttest: 0.8507547\tbest: 0.8510123 (209)\ttotal: 1.39s\tremaining: 54s\n",
            "300:\ttest: 0.8500601\tbest: 0.8510123 (209)\ttotal: 1.66s\tremaining: 53.6s\n",
            "350:\ttest: 0.8497016\tbest: 0.8510123 (209)\ttotal: 1.95s\tremaining: 53.6s\n",
            "400:\ttest: 0.8496480\tbest: 0.8510123 (209)\ttotal: 2.22s\tremaining: 53.2s\n",
            "450:\ttest: 0.8489168\tbest: 0.8510123 (209)\ttotal: 2.49s\tremaining: 52.7s\n",
            "500:\ttest: 0.8483332\tbest: 0.8510123 (209)\ttotal: 2.77s\tremaining: 52.6s\n",
            "550:\ttest: 0.8478096\tbest: 0.8510123 (209)\ttotal: 3.04s\tremaining: 52.2s\n",
            "600:\ttest: 0.8471468\tbest: 0.8510123 (209)\ttotal: 3.31s\tremaining: 51.9s\n",
            "650:\ttest: 0.8461593\tbest: 0.8510123 (209)\ttotal: 3.6s\tremaining: 51.7s\n",
            "700:\ttest: 0.8452078\tbest: 0.8510123 (209)\ttotal: 3.89s\tremaining: 51.6s\n",
            "Stopped by overfitting detector  (500 iterations wait)\n",
            "\n",
            "bestTest = 0.851012305\n",
            "bestIteration = 209\n",
            "\n",
            "Shrink model to first 210 iterations.\n",
            "\n",
            "Validation scores 0.8510123050320834 0.2927972311808654\n",
            "Training scores 0.8807872740405878 0.2691363384838018\n",
            "================================Fold4====================================\n",
            "Learning rate set to 0.024029\n",
            "0:\ttest: 0.2646344\tbest: 0.2646344 (0)\ttotal: 5.43ms\tremaining: 54.3s\n",
            "50:\ttest: 0.6169163\tbest: 0.6210878 (45)\ttotal: 279ms\tremaining: 54.5s\n",
            "100:\ttest: 0.6688506\tbest: 0.6690199 (93)\ttotal: 566ms\tremaining: 55.5s\n",
            "150:\ttest: 0.6971062\tbest: 0.6971062 (150)\ttotal: 848ms\tremaining: 55.3s\n",
            "200:\ttest: 0.7112691\tbest: 0.7112691 (200)\ttotal: 1.12s\tremaining: 54.7s\n",
            "250:\ttest: 0.7181948\tbest: 0.7181948 (250)\ttotal: 1.39s\tremaining: 54.1s\n",
            "300:\ttest: 0.7241237\tbest: 0.7241237 (300)\ttotal: 1.67s\tremaining: 54s\n",
            "350:\ttest: 0.7276722\tbest: 0.7276722 (350)\ttotal: 1.95s\tremaining: 53.6s\n",
            "400:\ttest: 0.7312288\tbest: 0.7312288 (400)\ttotal: 2.25s\tremaining: 53.9s\n",
            "450:\ttest: 0.7330398\tbest: 0.7330745 (449)\ttotal: 2.55s\tremaining: 53.9s\n",
            "500:\ttest: 0.7351470\tbest: 0.7351470 (500)\ttotal: 2.82s\tremaining: 53.5s\n",
            "550:\ttest: 0.7370361\tbest: 0.7370361 (550)\ttotal: 3.1s\tremaining: 53.1s\n",
            "600:\ttest: 0.7378999\tbest: 0.7380430 (584)\ttotal: 3.37s\tremaining: 52.7s\n",
            "650:\ttest: 0.7385325\tbest: 0.7385721 (645)\ttotal: 3.67s\tremaining: 52.6s\n",
            "700:\ttest: 0.7385750\tbest: 0.7388325 (670)\ttotal: 3.94s\tremaining: 52.3s\n",
            "750:\ttest: 0.7383273\tbest: 0.7388325 (670)\ttotal: 4.21s\tremaining: 51.9s\n",
            "800:\ttest: 0.7379530\tbest: 0.7388325 (670)\ttotal: 4.49s\tremaining: 51.6s\n",
            "850:\ttest: 0.7385250\tbest: 0.7388325 (670)\ttotal: 4.78s\tremaining: 51.4s\n",
            "900:\ttest: 0.7391927\tbest: 0.7391927 (900)\ttotal: 5.06s\tremaining: 51.1s\n",
            "950:\ttest: 0.7391631\tbest: 0.7393630 (920)\ttotal: 5.33s\tremaining: 50.7s\n",
            "1000:\ttest: 0.7392102\tbest: 0.7393630 (920)\ttotal: 5.62s\tremaining: 50.5s\n",
            "1050:\ttest: 0.7393245\tbest: 0.7394542 (1047)\ttotal: 5.89s\tremaining: 50.2s\n",
            "1100:\ttest: 0.7395472\tbest: 0.7397736 (1086)\ttotal: 6.17s\tremaining: 49.9s\n",
            "1150:\ttest: 0.7397531\tbest: 0.7398712 (1147)\ttotal: 6.45s\tremaining: 49.6s\n",
            "1200:\ttest: 0.7403692\tbest: 0.7403954 (1199)\ttotal: 6.75s\tremaining: 49.5s\n",
            "1250:\ttest: 0.7400464\tbest: 0.7403954 (1199)\ttotal: 7.03s\tremaining: 49.1s\n",
            "1300:\ttest: 0.7404641\tbest: 0.7405396 (1278)\ttotal: 7.3s\tremaining: 48.8s\n",
            "1350:\ttest: 0.7404667\tbest: 0.7406670 (1323)\ttotal: 7.59s\tremaining: 48.6s\n",
            "1400:\ttest: 0.7402340\tbest: 0.7406670 (1323)\ttotal: 7.87s\tremaining: 48.3s\n",
            "1450:\ttest: 0.7406349\tbest: 0.7406778 (1430)\ttotal: 8.15s\tremaining: 48s\n",
            "1500:\ttest: 0.7407511\tbest: 0.7407511 (1500)\ttotal: 8.43s\tremaining: 47.7s\n",
            "1550:\ttest: 0.7409823\tbest: 0.7410470 (1549)\ttotal: 8.72s\tremaining: 47.5s\n",
            "1600:\ttest: 0.7414311\tbest: 0.7415472 (1592)\ttotal: 8.99s\tremaining: 47.2s\n",
            "1650:\ttest: 0.7417229\tbest: 0.7417767 (1626)\ttotal: 9.28s\tremaining: 46.9s\n",
            "1700:\ttest: 0.7419508\tbest: 0.7419683 (1697)\ttotal: 9.55s\tremaining: 46.6s\n",
            "1750:\ttest: 0.7415603\tbest: 0.7419683 (1697)\ttotal: 9.84s\tremaining: 46.3s\n",
            "1800:\ttest: 0.7420434\tbest: 0.7421155 (1792)\ttotal: 10.1s\tremaining: 46.1s\n",
            "1850:\ttest: 0.7420423\tbest: 0.7422045 (1837)\ttotal: 10.4s\tremaining: 45.8s\n",
            "1900:\ttest: 0.7416287\tbest: 0.7422045 (1837)\ttotal: 10.7s\tremaining: 45.5s\n",
            "1950:\ttest: 0.7418671\tbest: 0.7422045 (1837)\ttotal: 11s\tremaining: 45.2s\n",
            "2000:\ttest: 0.7422400\tbest: 0.7422613 (1997)\ttotal: 11.2s\tremaining: 44.9s\n",
            "2050:\ttest: 0.7421118\tbest: 0.7422747 (2002)\ttotal: 11.5s\tremaining: 44.6s\n",
            "2100:\ttest: 0.7420509\tbest: 0.7422747 (2002)\ttotal: 11.8s\tremaining: 44.3s\n",
            "2150:\ttest: 0.7420998\tbest: 0.7422747 (2002)\ttotal: 12.1s\tremaining: 44s\n",
            "2200:\ttest: 0.7421297\tbest: 0.7423468 (2192)\ttotal: 12.3s\tremaining: 43.7s\n",
            "2250:\ttest: 0.7422676\tbest: 0.7424540 (2241)\ttotal: 12.7s\tremaining: 43.6s\n",
            "2300:\ttest: 0.7419956\tbest: 0.7424540 (2241)\ttotal: 12.9s\tremaining: 43.3s\n",
            "2350:\ttest: 0.7420188\tbest: 0.7424540 (2241)\ttotal: 13.2s\tremaining: 43s\n",
            "2400:\ttest: 0.7415446\tbest: 0.7424540 (2241)\ttotal: 13.5s\tremaining: 42.7s\n",
            "2450:\ttest: 0.7415898\tbest: 0.7424540 (2241)\ttotal: 13.8s\tremaining: 42.5s\n",
            "2500:\ttest: 0.7417184\tbest: 0.7424540 (2241)\ttotal: 14.1s\tremaining: 42.2s\n",
            "2550:\ttest: 0.7416818\tbest: 0.7424540 (2241)\ttotal: 14.3s\tremaining: 41.9s\n",
            "2600:\ttest: 0.7418159\tbest: 0.7424540 (2241)\ttotal: 14.6s\tremaining: 41.6s\n",
            "2650:\ttest: 0.7418241\tbest: 0.7424540 (2241)\ttotal: 14.9s\tremaining: 41.3s\n",
            "2700:\ttest: 0.7420042\tbest: 0.7424540 (2241)\ttotal: 15.2s\tremaining: 41s\n",
            "Stopped by overfitting detector  (500 iterations wait)\n",
            "\n",
            "bestTest = 0.742454042\n",
            "bestIteration = 2241\n",
            "\n",
            "Shrink model to first 2242 iterations.\n",
            "\n",
            "Validation scores 0.742454042009127 0.39224656362783744\n",
            "Training scores 0.9354696326653497 0.2062949814184058\n",
            "================================Fold5====================================\n",
            "Learning rate set to 0.024029\n",
            "0:\ttest: 0.6832640\tbest: 0.6832640 (0)\ttotal: 5.88ms\tremaining: 58.8s\n",
            "50:\ttest: 0.7319699\tbest: 0.7624828 (2)\ttotal: 281ms\tremaining: 54.9s\n",
            "100:\ttest: 0.7448651\tbest: 0.7624828 (2)\ttotal: 565ms\tremaining: 55.4s\n",
            "150:\ttest: 0.7538615\tbest: 0.7624828 (2)\ttotal: 853ms\tremaining: 55.6s\n",
            "200:\ttest: 0.7580381\tbest: 0.7624828 (2)\ttotal: 1.14s\tremaining: 55.7s\n",
            "250:\ttest: 0.7607904\tbest: 0.7624828 (2)\ttotal: 1.42s\tremaining: 55.3s\n",
            "300:\ttest: 0.7636551\tbest: 0.7637564 (295)\ttotal: 1.7s\tremaining: 54.9s\n",
            "350:\ttest: 0.7647124\tbest: 0.7647124 (350)\ttotal: 1.99s\tremaining: 54.7s\n",
            "400:\ttest: 0.7657655\tbest: 0.7657655 (400)\ttotal: 2.27s\tremaining: 54.2s\n",
            "450:\ttest: 0.7665150\tbest: 0.7665748 (427)\ttotal: 2.55s\tremaining: 53.9s\n",
            "500:\ttest: 0.7666395\tbest: 0.7668177 (489)\ttotal: 2.82s\tremaining: 53.5s\n",
            "550:\ttest: 0.7675136\tbest: 0.7675510 (548)\ttotal: 3.11s\tremaining: 53.4s\n",
            "600:\ttest: 0.7675768\tbest: 0.7676937 (589)\ttotal: 3.39s\tremaining: 53.1s\n",
            "650:\ttest: 0.7673705\tbest: 0.7676937 (589)\ttotal: 3.67s\tremaining: 52.8s\n",
            "700:\ttest: 0.7673593\tbest: 0.7676937 (589)\ttotal: 3.96s\tremaining: 52.5s\n",
            "750:\ttest: 0.7674568\tbest: 0.7676937 (589)\ttotal: 4.23s\tremaining: 52.2s\n",
            "800:\ttest: 0.7671171\tbest: 0.7676937 (589)\ttotal: 4.52s\tremaining: 51.9s\n",
            "850:\ttest: 0.7669642\tbest: 0.7676937 (589)\ttotal: 4.8s\tremaining: 51.6s\n",
            "900:\ttest: 0.7673395\tbest: 0.7676937 (589)\ttotal: 5.09s\tremaining: 51.4s\n",
            "950:\ttest: 0.7673798\tbest: 0.7676937 (589)\ttotal: 5.37s\tremaining: 51.1s\n",
            "1000:\ttest: 0.7673738\tbest: 0.7676937 (589)\ttotal: 5.64s\tremaining: 50.7s\n",
            "1050:\ttest: 0.7674475\tbest: 0.7676937 (589)\ttotal: 5.93s\tremaining: 50.5s\n",
            "Stopped by overfitting detector  (500 iterations wait)\n",
            "\n",
            "bestTest = 0.7676937474\n",
            "bestIteration = 589\n",
            "\n",
            "Shrink model to first 590 iterations.\n",
            "\n",
            "Validation scores 0.7676937473746208 0.3694737750053524\n",
            "Training scores 0.8936925590133137 0.25523983940446937\n"
          ]
        },
        {
          "output_type": "display_data",
          "data": {
            "text/plain": [
              "<Figure size 2160x1800 with 1 Axes>"
            ],
            "image/png": "[encoded data removed]"
          },
          "metadata": {
            "needs_background": "light"
          }
        },
        {
          "output_type": "stream",
          "name": "stdout",
          "text": [
            "0.8066375780085785 0.888705655944389 0.043347994662862835\n"
          ]
        }
      ]
    },
    {
      "cell_type": "code",
      "source": [
        "\n",
        "xgboost = xgb.XGBClassifier()\n",
        "\n",
        "func_= func(train, target, test, xgboost, 'xgboost', 1000)\n",
        "val_p2, test_p2, model2 = func_()"
      ],
      "metadata": {
        "colab": {
          "base_uri": "https://localhost:8080/",
          "height": 1000
        },
        "id": "2DYRv0wmFPDi",
        "outputId": "32f84e85-9fcf-471e-8fe7-820e0158dc74"
      },
      "id": "2DYRv0wmFPDi",
      "execution_count": 68,
      "outputs": [
        {
          "output_type": "stream",
          "name": "stdout",
          "text": [
            "================================Fold1====================================\n",
            "[0]\tvalidation_0-auc:0.752679\n",
            "Will train until validation_0-auc hasn't improved in 30 rounds.\n",
            "[1]\tvalidation_0-auc:0.750886\n",
            "[2]\tvalidation_0-auc:0.750886\n",
            "[3]\tvalidation_0-auc:0.754836\n",
            "[4]\tvalidation_0-auc:0.753756\n",
            "[5]\tvalidation_0-auc:0.756248\n",
            "[6]\tvalidation_0-auc:0.768476\n",
            "[7]\tvalidation_0-auc:0.76865\n",
            "[8]\tvalidation_0-auc:0.770963\n",
            "[9]\tvalidation_0-auc:0.771698\n",
            "[10]\tvalidation_0-auc:0.773518\n",
            "[11]\tvalidation_0-auc:0.77389\n",
            "[12]\tvalidation_0-auc:0.773638\n",
            "[13]\tvalidation_0-auc:0.772993\n",
            "[14]\tvalidation_0-auc:0.773618\n",
            "[15]\tvalidation_0-auc:0.773264\n",
            "[16]\tvalidation_0-auc:0.782859\n",
            "[17]\tvalidation_0-auc:0.782856\n",
            "[18]\tvalidation_0-auc:0.786566\n",
            "[19]\tvalidation_0-auc:0.788082\n",
            "[20]\tvalidation_0-auc:0.788051\n",
            "[21]\tvalidation_0-auc:0.788363\n",
            "[22]\tvalidation_0-auc:0.788352\n",
            "[23]\tvalidation_0-auc:0.794997\n",
            "[24]\tvalidation_0-auc:0.795389\n",
            "[25]\tvalidation_0-auc:0.795635\n",
            "[26]\tvalidation_0-auc:0.796392\n",
            "[27]\tvalidation_0-auc:0.79656\n",
            "[28]\tvalidation_0-auc:0.796412\n",
            "[29]\tvalidation_0-auc:0.796535\n",
            "[30]\tvalidation_0-auc:0.797711\n",
            "[31]\tvalidation_0-auc:0.799033\n",
            "[32]\tvalidation_0-auc:0.799618\n",
            "[33]\tvalidation_0-auc:0.799529\n",
            "[34]\tvalidation_0-auc:0.799987\n",
            "[35]\tvalidation_0-auc:0.802347\n",
            "[36]\tvalidation_0-auc:0.808363\n",
            "[37]\tvalidation_0-auc:0.808514\n",
            "[38]\tvalidation_0-auc:0.808307\n",
            "[39]\tvalidation_0-auc:0.810519\n",
            "[40]\tvalidation_0-auc:0.811018\n",
            "[41]\tvalidation_0-auc:0.813116\n",
            "[42]\tvalidation_0-auc:0.813479\n",
            "[43]\tvalidation_0-auc:0.8141\n",
            "[44]\tvalidation_0-auc:0.815018\n",
            "[45]\tvalidation_0-auc:0.816843\n",
            "[46]\tvalidation_0-auc:0.816704\n",
            "[47]\tvalidation_0-auc:0.816404\n",
            "[48]\tvalidation_0-auc:0.818089\n",
            "[49]\tvalidation_0-auc:0.81834\n",
            "[50]\tvalidation_0-auc:0.818689\n",
            "[51]\tvalidation_0-auc:0.819204\n",
            "[52]\tvalidation_0-auc:0.819759\n",
            "[53]\tvalidation_0-auc:0.819637\n",
            "[54]\tvalidation_0-auc:0.819558\n",
            "[55]\tvalidation_0-auc:0.819945\n",
            "[56]\tvalidation_0-auc:0.821063\n",
            "[57]\tvalidation_0-auc:0.821447\n",
            "[58]\tvalidation_0-auc:0.821552\n",
            "[59]\tvalidation_0-auc:0.821544\n",
            "[60]\tvalidation_0-auc:0.822083\n",
            "[61]\tvalidation_0-auc:0.822305\n",
            "[62]\tvalidation_0-auc:0.822466\n",
            "[63]\tvalidation_0-auc:0.822706\n",
            "[64]\tvalidation_0-auc:0.822515\n",
            "[65]\tvalidation_0-auc:0.822594\n",
            "[66]\tvalidation_0-auc:0.823595\n",
            "[67]\tvalidation_0-auc:0.823778\n",
            "[68]\tvalidation_0-auc:0.82378\n",
            "[69]\tvalidation_0-auc:0.823964\n",
            "[70]\tvalidation_0-auc:0.824122\n",
            "[71]\tvalidation_0-auc:0.824104\n",
            "[72]\tvalidation_0-auc:0.824403\n",
            "[73]\tvalidation_0-auc:0.824319\n",
            "[74]\tvalidation_0-auc:0.824486\n",
            "[75]\tvalidation_0-auc:0.824717\n",
            "[76]\tvalidation_0-auc:0.824591\n",
            "[77]\tvalidation_0-auc:0.825352\n",
            "[78]\tvalidation_0-auc:0.825312\n",
            "[79]\tvalidation_0-auc:0.825586\n",
            "[80]\tvalidation_0-auc:0.826011\n",
            "[81]\tvalidation_0-auc:0.82603\n",
            "[82]\tvalidation_0-auc:0.825968\n",
            "[83]\tvalidation_0-auc:0.826011\n",
            "[84]\tvalidation_0-auc:0.826336\n",
            "[85]\tvalidation_0-auc:0.826698\n",
            "[86]\tvalidation_0-auc:0.826677\n",
            "[87]\tvalidation_0-auc:0.826889\n",
            "[88]\tvalidation_0-auc:0.826954\n",
            "[89]\tvalidation_0-auc:0.827018\n",
            "[90]\tvalidation_0-auc:0.827204\n",
            "[91]\tvalidation_0-auc:0.826997\n",
            "[92]\tvalidation_0-auc:0.827148\n",
            "[93]\tvalidation_0-auc:0.827171\n",
            "[94]\tvalidation_0-auc:0.827154\n",
            "[95]\tvalidation_0-auc:0.827299\n",
            "[96]\tvalidation_0-auc:0.827246\n",
            "[97]\tvalidation_0-auc:0.827323\n",
            "[98]\tvalidation_0-auc:0.827317\n",
            "[99]\tvalidation_0-auc:0.827342\n",
            "\n",
            "Validation scores 0.8273423174316732 0.6148158376024963\n",
            "Training scores 0.8957229516605023 0.24838097084950572\n",
            "================================Fold2====================================\n",
            "[0]\tvalidation_0-auc:0.760987\n",
            "Will train until validation_0-auc hasn't improved in 30 rounds.\n",
            "[1]\tvalidation_0-auc:0.781123\n",
            "[2]\tvalidation_0-auc:0.783137\n",
            "[3]\tvalidation_0-auc:0.784016\n",
            "[4]\tvalidation_0-auc:0.784987\n",
            "[5]\tvalidation_0-auc:0.786441\n",
            "[6]\tvalidation_0-auc:0.786164\n",
            "[7]\tvalidation_0-auc:0.790757\n",
            "[8]\tvalidation_0-auc:0.790264\n",
            "[9]\tvalidation_0-auc:0.790195\n",
            "[10]\tvalidation_0-auc:0.791286\n",
            "[11]\tvalidation_0-auc:0.791225\n",
            "[12]\tvalidation_0-auc:0.792561\n",
            "[13]\tvalidation_0-auc:0.80927\n",
            "[14]\tvalidation_0-auc:0.809272\n",
            "[15]\tvalidation_0-auc:0.712879\n",
            "[16]\tvalidation_0-auc:0.71424\n",
            "[17]\tvalidation_0-auc:0.713812\n",
            "[18]\tvalidation_0-auc:0.757205\n",
            "[19]\tvalidation_0-auc:0.764142\n",
            "[20]\tvalidation_0-auc:0.762185\n",
            "[21]\tvalidation_0-auc:0.774806\n",
            "[22]\tvalidation_0-auc:0.757175\n",
            "[23]\tvalidation_0-auc:0.763028\n",
            "[24]\tvalidation_0-auc:0.768669\n",
            "[25]\tvalidation_0-auc:0.750668\n",
            "[26]\tvalidation_0-auc:0.754412\n",
            "[27]\tvalidation_0-auc:0.761487\n",
            "[28]\tvalidation_0-auc:0.75963\n",
            "[29]\tvalidation_0-auc:0.733465\n",
            "[30]\tvalidation_0-auc:0.754368\n",
            "[31]\tvalidation_0-auc:0.751334\n",
            "[32]\tvalidation_0-auc:0.75186\n",
            "[33]\tvalidation_0-auc:0.753833\n",
            "[34]\tvalidation_0-auc:0.755464\n",
            "[35]\tvalidation_0-auc:0.757713\n",
            "[36]\tvalidation_0-auc:0.75859\n",
            "[37]\tvalidation_0-auc:0.764184\n",
            "[38]\tvalidation_0-auc:0.767324\n",
            "[39]\tvalidation_0-auc:0.77044\n",
            "[40]\tvalidation_0-auc:0.765298\n",
            "[41]\tvalidation_0-auc:0.769734\n",
            "[42]\tvalidation_0-auc:0.772593\n",
            "[43]\tvalidation_0-auc:0.775062\n",
            "[44]\tvalidation_0-auc:0.773048\n",
            "Stopping. Best iteration:\n",
            "[14]\tvalidation_0-auc:0.809272\n",
            "\n",
            "\n",
            "Validation scores 0.8092718760704907 0.36238214738754104\n",
            "Training scores 0.8085554624059722 0.359116243754071\n",
            "================================Fold3====================================\n",
            "[0]\tvalidation_0-auc:0.743775\n",
            "Will train until validation_0-auc hasn't improved in 30 rounds.\n",
            "[1]\tvalidation_0-auc:0.748951\n",
            "[2]\tvalidation_0-auc:0.749548\n",
            "[3]\tvalidation_0-auc:0.753735\n",
            "[4]\tvalidation_0-auc:0.753397\n",
            "[5]\tvalidation_0-auc:0.754119\n",
            "[6]\tvalidation_0-auc:0.754213\n",
            "[7]\tvalidation_0-auc:0.758285\n",
            "[8]\tvalidation_0-auc:0.756755\n",
            "[9]\tvalidation_0-auc:0.756866\n",
            "[10]\tvalidation_0-auc:0.757153\n",
            "[11]\tvalidation_0-auc:0.757196\n",
            "[12]\tvalidation_0-auc:0.757965\n",
            "[13]\tvalidation_0-auc:0.778514\n",
            "[14]\tvalidation_0-auc:0.784728\n",
            "[15]\tvalidation_0-auc:0.785404\n",
            "[16]\tvalidation_0-auc:0.785243\n",
            "[17]\tvalidation_0-auc:0.785516\n",
            "[18]\tvalidation_0-auc:0.785586\n",
            "[19]\tvalidation_0-auc:0.785582\n",
            "[20]\tvalidation_0-auc:0.785626\n",
            "[21]\tvalidation_0-auc:0.785792\n",
            "[22]\tvalidation_0-auc:0.79517\n",
            "[23]\tvalidation_0-auc:0.796616\n",
            "[24]\tvalidation_0-auc:0.796743\n",
            "[25]\tvalidation_0-auc:0.798054\n",
            "[26]\tvalidation_0-auc:0.802027\n",
            "[27]\tvalidation_0-auc:0.800327\n",
            "[28]\tvalidation_0-auc:0.807485\n",
            "[29]\tvalidation_0-auc:0.810039\n",
            "[30]\tvalidation_0-auc:0.81163\n",
            "[31]\tvalidation_0-auc:0.811715\n",
            "[32]\tvalidation_0-auc:0.811287\n",
            "[33]\tvalidation_0-auc:0.812322\n",
            "[34]\tvalidation_0-auc:0.814649\n",
            "[35]\tvalidation_0-auc:0.814114\n",
            "[36]\tvalidation_0-auc:0.817224\n",
            "[37]\tvalidation_0-auc:0.817941\n",
            "[38]\tvalidation_0-auc:0.817715\n",
            "[39]\tvalidation_0-auc:0.817905\n",
            "[40]\tvalidation_0-auc:0.81961\n",
            "[41]\tvalidation_0-auc:0.819694\n",
            "[42]\tvalidation_0-auc:0.823\n",
            "[43]\tvalidation_0-auc:0.823114\n",
            "[44]\tvalidation_0-auc:0.824678\n",
            "[45]\tvalidation_0-auc:0.82401\n",
            "[46]\tvalidation_0-auc:0.826854\n",
            "[47]\tvalidation_0-auc:0.827083\n",
            "[48]\tvalidation_0-auc:0.828172\n",
            "[49]\tvalidation_0-auc:0.827676\n",
            "[50]\tvalidation_0-auc:0.828141\n",
            "[51]\tvalidation_0-auc:0.82964\n",
            "[52]\tvalidation_0-auc:0.829189\n",
            "[53]\tvalidation_0-auc:0.829461\n",
            "[54]\tvalidation_0-auc:0.829999\n",
            "[55]\tvalidation_0-auc:0.830298\n",
            "[56]\tvalidation_0-auc:0.831032\n",
            "[57]\tvalidation_0-auc:0.831128\n",
            "[58]\tvalidation_0-auc:0.831289\n",
            "[59]\tvalidation_0-auc:0.831269\n",
            "[60]\tvalidation_0-auc:0.831529\n",
            "[61]\tvalidation_0-auc:0.833322\n",
            "[62]\tvalidation_0-auc:0.833041\n",
            "[63]\tvalidation_0-auc:0.833461\n",
            "[64]\tvalidation_0-auc:0.833736\n",
            "[65]\tvalidation_0-auc:0.83602\n",
            "[66]\tvalidation_0-auc:0.835927\n",
            "[67]\tvalidation_0-auc:0.835755\n",
            "[68]\tvalidation_0-auc:0.835663\n",
            "[69]\tvalidation_0-auc:0.836701\n",
            "[70]\tvalidation_0-auc:0.837279\n",
            "[71]\tvalidation_0-auc:0.837628\n",
            "[72]\tvalidation_0-auc:0.837478\n",
            "[73]\tvalidation_0-auc:0.838237\n",
            "[74]\tvalidation_0-auc:0.838013\n",
            "[75]\tvalidation_0-auc:0.8381\n",
            "[76]\tvalidation_0-auc:0.838119\n",
            "[77]\tvalidation_0-auc:0.837715\n",
            "[78]\tvalidation_0-auc:0.838902\n",
            "[79]\tvalidation_0-auc:0.838917\n",
            "[80]\tvalidation_0-auc:0.838765\n",
            "[81]\tvalidation_0-auc:0.838674\n",
            "[82]\tvalidation_0-auc:0.839214\n",
            "[83]\tvalidation_0-auc:0.839425\n",
            "[84]\tvalidation_0-auc:0.839115\n",
            "[85]\tvalidation_0-auc:0.839038\n",
            "[86]\tvalidation_0-auc:0.839058\n",
            "[87]\tvalidation_0-auc:0.838862\n",
            "[88]\tvalidation_0-auc:0.83965\n",
            "[89]\tvalidation_0-auc:0.839814\n",
            "[90]\tvalidation_0-auc:0.839731\n",
            "[91]\tvalidation_0-auc:0.839608\n",
            "[92]\tvalidation_0-auc:0.839798\n",
            "[93]\tvalidation_0-auc:0.839736\n",
            "[94]\tvalidation_0-auc:0.840248\n",
            "[95]\tvalidation_0-auc:0.839936\n",
            "[96]\tvalidation_0-auc:0.840065\n",
            "[97]\tvalidation_0-auc:0.83986\n",
            "[98]\tvalidation_0-auc:0.840059\n",
            "[99]\tvalidation_0-auc:0.841095\n",
            "\n",
            "Validation scores 0.8410945627555142 0.2964395928812707\n",
            "Training scores 0.8738230739698725 0.27427198123405316\n",
            "================================Fold4====================================\n",
            "[0]\tvalidation_0-auc:0.274318\n",
            "Will train until validation_0-auc hasn't improved in 30 rounds.\n",
            "[1]\tvalidation_0-auc:0.511574\n",
            "[2]\tvalidation_0-auc:0.278909\n",
            "[3]\tvalidation_0-auc:0.512076\n",
            "[4]\tvalidation_0-auc:0.279833\n",
            "[5]\tvalidation_0-auc:0.341584\n",
            "[6]\tvalidation_0-auc:0.377816\n",
            "[7]\tvalidation_0-auc:0.45188\n",
            "[8]\tvalidation_0-auc:0.453908\n",
            "[9]\tvalidation_0-auc:0.483463\n",
            "[10]\tvalidation_0-auc:0.484517\n",
            "[11]\tvalidation_0-auc:0.507005\n",
            "[12]\tvalidation_0-auc:0.506535\n",
            "[13]\tvalidation_0-auc:0.555798\n",
            "[14]\tvalidation_0-auc:0.559895\n",
            "[15]\tvalidation_0-auc:0.559698\n",
            "[16]\tvalidation_0-auc:0.56924\n",
            "[17]\tvalidation_0-auc:0.609108\n",
            "[18]\tvalidation_0-auc:0.60286\n",
            "[19]\tvalidation_0-auc:0.619448\n",
            "[20]\tvalidation_0-auc:0.620298\n",
            "[21]\tvalidation_0-auc:0.623806\n",
            "[22]\tvalidation_0-auc:0.624371\n",
            "[23]\tvalidation_0-auc:0.628375\n",
            "[24]\tvalidation_0-auc:0.628554\n",
            "[25]\tvalidation_0-auc:0.625298\n",
            "[26]\tvalidation_0-auc:0.626032\n",
            "[27]\tvalidation_0-auc:0.631245\n",
            "[28]\tvalidation_0-auc:0.636388\n",
            "[29]\tvalidation_0-auc:0.636445\n",
            "[30]\tvalidation_0-auc:0.63809\n",
            "[31]\tvalidation_0-auc:0.641949\n",
            "[32]\tvalidation_0-auc:0.646957\n",
            "[33]\tvalidation_0-auc:0.652816\n",
            "[34]\tvalidation_0-auc:0.648801\n",
            "[35]\tvalidation_0-auc:0.654123\n",
            "[36]\tvalidation_0-auc:0.65236\n",
            "[37]\tvalidation_0-auc:0.656909\n",
            "[38]\tvalidation_0-auc:0.658701\n",
            "[39]\tvalidation_0-auc:0.661083\n",
            "[40]\tvalidation_0-auc:0.660136\n",
            "[41]\tvalidation_0-auc:0.663729\n",
            "[42]\tvalidation_0-auc:0.663721\n",
            "[43]\tvalidation_0-auc:0.6663\n",
            "[44]\tvalidation_0-auc:0.667512\n",
            "[45]\tvalidation_0-auc:0.668367\n",
            "[46]\tvalidation_0-auc:0.670227\n",
            "[47]\tvalidation_0-auc:0.670281\n",
            "[48]\tvalidation_0-auc:0.672668\n",
            "[49]\tvalidation_0-auc:0.676316\n",
            "[50]\tvalidation_0-auc:0.677825\n",
            "[51]\tvalidation_0-auc:0.678244\n",
            "[52]\tvalidation_0-auc:0.679904\n",
            "[53]\tvalidation_0-auc:0.681411\n",
            "[54]\tvalidation_0-auc:0.682439\n",
            "[55]\tvalidation_0-auc:0.686263\n",
            "[56]\tvalidation_0-auc:0.686242\n",
            "[57]\tvalidation_0-auc:0.686014\n",
            "[58]\tvalidation_0-auc:0.686683\n",
            "[59]\tvalidation_0-auc:0.68992\n",
            "[60]\tvalidation_0-auc:0.69038\n",
            "[61]\tvalidation_0-auc:0.69044\n",
            "[62]\tvalidation_0-auc:0.692128\n",
            "[63]\tvalidation_0-auc:0.693333\n",
            "[64]\tvalidation_0-auc:0.693116\n",
            "[65]\tvalidation_0-auc:0.693853\n",
            "[66]\tvalidation_0-auc:0.694157\n",
            "[67]\tvalidation_0-auc:0.697092\n",
            "[68]\tvalidation_0-auc:0.697722\n",
            "[69]\tvalidation_0-auc:0.697419\n",
            "[70]\tvalidation_0-auc:0.698687\n",
            "[71]\tvalidation_0-auc:0.699386\n",
            "[72]\tvalidation_0-auc:0.699618\n",
            "[73]\tvalidation_0-auc:0.700512\n",
            "[74]\tvalidation_0-auc:0.701913\n",
            "[75]\tvalidation_0-auc:0.70213\n",
            "[76]\tvalidation_0-auc:0.702312\n",
            "[77]\tvalidation_0-auc:0.705492\n",
            "[78]\tvalidation_0-auc:0.704974\n",
            "[79]\tvalidation_0-auc:0.705023\n",
            "[80]\tvalidation_0-auc:0.705206\n",
            "[81]\tvalidation_0-auc:0.705377\n",
            "[82]\tvalidation_0-auc:0.70425\n",
            "[83]\tvalidation_0-auc:0.704273\n",
            "[84]\tvalidation_0-auc:0.705654\n",
            "[85]\tvalidation_0-auc:0.706062\n",
            "[86]\tvalidation_0-auc:0.706618\n",
            "[87]\tvalidation_0-auc:0.706736\n",
            "[88]\tvalidation_0-auc:0.707617\n",
            "[89]\tvalidation_0-auc:0.708526\n",
            "[90]\tvalidation_0-auc:0.708552\n",
            "[91]\tvalidation_0-auc:0.710724\n",
            "[92]\tvalidation_0-auc:0.71056\n",
            "[93]\tvalidation_0-auc:0.710981\n",
            "[94]\tvalidation_0-auc:0.711062\n",
            "[95]\tvalidation_0-auc:0.711016\n",
            "[96]\tvalidation_0-auc:0.711654\n",
            "[97]\tvalidation_0-auc:0.712268\n",
            "[98]\tvalidation_0-auc:0.712394\n",
            "[99]\tvalidation_0-auc:0.712409\n",
            "\n",
            "Validation scores 0.7124091992948911 0.3861729789164024\n",
            "Training scores 0.8831635542973568 0.2654255317344606\n",
            "================================Fold5====================================\n",
            "[0]\tvalidation_0-auc:0.801517\n",
            "Will train until validation_0-auc hasn't improved in 30 rounds.\n",
            "[1]\tvalidation_0-auc:0.733191\n",
            "[2]\tvalidation_0-auc:0.779517\n",
            "[3]\tvalidation_0-auc:0.737697\n",
            "[4]\tvalidation_0-auc:0.736793\n",
            "[5]\tvalidation_0-auc:0.735567\n",
            "[6]\tvalidation_0-auc:0.771182\n",
            "[7]\tvalidation_0-auc:0.733383\n",
            "[8]\tvalidation_0-auc:0.733631\n",
            "[9]\tvalidation_0-auc:0.768329\n",
            "[10]\tvalidation_0-auc:0.77061\n",
            "[11]\tvalidation_0-auc:0.772032\n",
            "[12]\tvalidation_0-auc:0.77117\n",
            "[13]\tvalidation_0-auc:0.76639\n",
            "[14]\tvalidation_0-auc:0.768521\n",
            "[15]\tvalidation_0-auc:0.774272\n",
            "[16]\tvalidation_0-auc:0.778959\n",
            "[17]\tvalidation_0-auc:0.775436\n",
            "[18]\tvalidation_0-auc:0.772803\n",
            "[19]\tvalidation_0-auc:0.769554\n",
            "[20]\tvalidation_0-auc:0.768848\n",
            "[21]\tvalidation_0-auc:0.766076\n",
            "[22]\tvalidation_0-auc:0.763873\n",
            "[23]\tvalidation_0-auc:0.768195\n",
            "[24]\tvalidation_0-auc:0.7651\n",
            "[25]\tvalidation_0-auc:0.769863\n",
            "[26]\tvalidation_0-auc:0.766371\n",
            "[27]\tvalidation_0-auc:0.759727\n",
            "[28]\tvalidation_0-auc:0.765312\n",
            "[29]\tvalidation_0-auc:0.760869\n",
            "[30]\tvalidation_0-auc:0.766207\n",
            "Stopping. Best iteration:\n",
            "[0]\tvalidation_0-auc:0.801517\n",
            "\n",
            "\n",
            "Validation scores 0.8015174130840674 0.6358023706671535\n",
            "Training scores 0.7722813619444348 0.6354880598634006\n"
          ]
        },
        {
          "output_type": "display_data",
          "data": {
            "text/plain": [
              "<Figure size 2160x1800 with 1 Axes>"
            ],
            "image/png": "[encoded data removed]"
          },
          "metadata": {
            "needs_background": "light"
          }
        },
        {
          "output_type": "stream",
          "name": "stdout",
          "text": [
            "0.7983270737273274 0.8467092808556277 0.045128240815543924\n"
          ]
        }
      ]
    },
    {
      "cell_type": "code",
      "source": [
        ""
      ],
      "metadata": {
        "id": "NcafCgPsGXfe"
      },
      "id": "NcafCgPsGXfe",
      "execution_count": 68,
      "outputs": []
    }
  ],
  "metadata": {
    "kernelspec": {
      "display_name": "Python 3 (ipykernel)",
      "language": "python",
      "name": "python3"
    },
    "language_info": {
      "codemirror_mode": {
        "name": "ipython",
        "version": 3
      },
      "file_extension": ".py",
      "mimetype": "text/x-python",
      "name": "python",
      "nbconvert_exporter": "python",
      "pygments_lexer": "ipython3",
      "version": "3.9.12"
    },
    "colab": {
      "name": "Classification_Bank_Account.ipynb",
      "provenance": [],
      "collapsed_sections": [],
      "include_colab_link": true
    }
  },
  "nbformat": 4,
  "nbformat_minor": 5
}